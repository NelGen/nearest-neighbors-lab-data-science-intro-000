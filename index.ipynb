{
 "cells": [
  {
   "cell_type": "markdown",
   "metadata": {},
   "source": [
    "# Nearest Neighbors Lab"
   ]
  },
  {
   "cell_type": "markdown",
   "metadata": {},
   "source": [
    "### Introduction\n",
    "\n",
    "In this lab, you apply nearest neighbors technique to help a taxi company predict the length of their rides.  Imagine that we are hired to consult for LiftOff, a limo and taxi service that is just opening up in NYC.  Liftoff wants it's taxi drivers to target longer rides, as the longer the ride the more money it makes.  LiftOff has the following theory:\n",
    "\n",
    "* the pickup location of a taxi ride can help predict the length of the ride.  \n",
    "\n",
    "\n",
    "\n",
    "LiftOff asks us to do some analysis to write a function that will allow it to **predict the length of a taxi ride for any given location **.\n",
    "\n",
    "Our technique will be the following:\n",
    "  * **Collect** Obtain the data containing all of the taxi information, and only select the attributes of taxi trips that we need \n",
    "  * ** Explore ** Examine the attributes of our data, and plot some of our data on a map\n",
    "  * ** Train ** Write our nearest neighbors formula, and change the number of nearby trips to predict the length of a new trip\n",
    "  * ** Predict ** Use our function to predict trip lengths of new locations"
   ]
  },
  {
   "cell_type": "markdown",
   "metadata": {},
   "source": [
    "### Collect and Explore the data"
   ]
  },
  {
   "cell_type": "markdown",
   "metadata": {},
   "source": [
    "#### Collect the Data"
   ]
  },
  {
   "cell_type": "markdown",
   "metadata": {},
   "source": [
    "Luckily for us, [NYC Open Data](https://opendata.cityofnewyork.us/) collects information about NYC taxi trips and provides this data on [its website](https://data.cityofnewyork.us/Transportation/2014-Yellow-Taxi-Trip-Data/gn7m-em8n)."
   ]
  },
  {
   "cell_type": "markdown",
   "metadata": {},
   "source": [
    "![](./nyc-taxi.png)"
   ]
  },
  {
   "cell_type": "markdown",
   "metadata": {},
   "source": [
    "For your reading pleasure, the data has already been downloaded into the [trips.json](https://github.com/learn-co-curriculum/nearest-neighbors-lab/blob/master/trips.json) file in this lab which you can find here.  We'll use Python's `json` library to take the data from the `trips.json` file and store it as a variable in our notebook."
   ]
  },
  {
   "cell_type": "code",
   "execution_count": 3,
   "metadata": {},
   "outputs": [],
   "source": [
    "import json\n",
    "# First, read the file\n",
    "trips_file = open('trips.json')\n",
    "# Then, convert contents to list of dictionaries \n",
    "trips = json.load(trips_file)"
   ]
  },
  {
   "cell_type": "markdown",
   "metadata": {},
   "source": [
    "> Press shift + enter"
   ]
  },
  {
   "cell_type": "markdown",
   "metadata": {},
   "source": [
    "#### Explore the data"
   ]
  },
  {
   "cell_type": "markdown",
   "metadata": {},
   "source": [
    "The next step is to explore the data.  First, let's see how many trips we have."
   ]
  },
  {
   "cell_type": "code",
   "execution_count": 4,
   "metadata": {},
   "outputs": [
    {
     "data": {
      "text/plain": [
       "1000"
      ]
     },
     "execution_count": 4,
     "metadata": {},
     "output_type": "execute_result"
    }
   ],
   "source": [
    "len(trips)"
   ]
  },
  {
   "cell_type": "markdown",
   "metadata": {},
   "source": [
    "Not bad at all.  Now let's see what each individual trip looks like.  Each trip is a dictionary, so we can see the attributes of each trip with the `keys` function."
   ]
  },
  {
   "cell_type": "code",
   "execution_count": 5,
   "metadata": {
    "scrolled": true
   },
   "outputs": [
    {
     "data": {
      "text/plain": [
       "dict_keys(['dropoff_datetime', 'dropoff_latitude', 'dropoff_longitude', 'fare_amount', 'imp_surcharge', 'mta_tax', 'passenger_count', 'payment_type', 'pickup_datetime', 'pickup_latitude', 'pickup_longitude', 'rate_code', 'tip_amount', 'tolls_amount', 'total_amount', 'trip_distance', 'vendor_id'])"
      ]
     },
     "execution_count": 5,
     "metadata": {},
     "output_type": "execute_result"
    }
   ],
   "source": [
    "trips[0].keys()"
   ]
  },
  {
   "cell_type": "markdown",
   "metadata": {},
   "source": [
    "#### Limit our data"
   ]
  },
  {
   "cell_type": "markdown",
   "metadata": {},
   "source": [
    "Ok, now that we have explored some of our data, let's begin to think through what data is relevant for our task."
   ]
  },
  {
   "cell_type": "markdown",
   "metadata": {
    "collapsed": true
   },
   "source": [
    "Remember that our task is to **use the trip location to predict the length of a trip**.  So let's select the `pickup_latitude`, `pickup_longitude`, and `trip_distance` from each trip.  That will give us the trip location and related `trip_distance` for each trip.  Then based on these **actual** trip distances we can use nearest neighbors to predict an **expected** trip distance for a trip, provided an **actual** location."
   ]
  },
  {
   "cell_type": "markdown",
   "metadata": {},
   "source": [
    "** Add in about trip distance ** "
   ]
  },
  {
   "cell_type": "markdown",
   "metadata": {},
   "source": [
    "Write a function called `parse_trips(trips)` that returns a list of the trips with only the following attributes: \n",
    "* `trip_distance`\n",
    "* `pickup_latitude`\n",
    "* `pickup_longitude`"
   ]
  },
  {
   "cell_type": "code",
   "execution_count": 6,
   "metadata": {},
   "outputs": [],
   "source": [
    "def parse_trips(trips):\n",
    "    list_of_trips = []\n",
    "    list_of_trips = list(map(lambda trip: dict(trip_distance= trip['trip_distance'],\n",
    "                                             pickup_latitude= trip['pickup_latitude'],\n",
    "                                             pickup_longitude= trip['pickup_longitude']),trips))\n",
    "    return list_of_trips"
   ]
  },
  {
   "cell_type": "code",
   "execution_count": 7,
   "metadata": {},
   "outputs": [
    {
     "data": {
      "text/plain": [
       "{'trip_distance': '18.379999999999999',\n",
       " 'pickup_latitude': '40.64499',\n",
       " 'pickup_longitude': '-73.781149999999997'}"
      ]
     },
     "execution_count": 7,
     "metadata": {},
     "output_type": "execute_result"
    }
   ],
   "source": [
    "parsed_trips = parse_trips(trips)\n",
    "parsed_trips and parsed_trips[0]\n",
    "\n",
    "# {'pickup_latitude': '40.64499',\n",
    "#  'pickup_longitude': '-73.78115',\n",
    "#  'trip_distance': '18.38'}"
   ]
  },
  {
   "cell_type": "markdown",
   "metadata": {},
   "source": [
    "Now, there's just one change to make.  If you look at one of the trips, all of the values are strings.  Let's change them to be floats."
   ]
  },
  {
   "cell_type": "code",
   "execution_count": 8,
   "metadata": {},
   "outputs": [],
   "source": [
    "def float_values(trips):\n",
    "    cleaned_trips = []\n",
    "    cleaned_trips = list(map(lambda trip: dict(trip_distance= float(trip['trip_distance']),\n",
    "                                             pickup_latitude= float(trip['pickup_latitude']),\n",
    "                                             pickup_longitude= float(trip['pickup_longitude'])),trips))\n",
    "    return cleaned_trips"
   ]
  },
  {
   "cell_type": "code",
   "execution_count": null,
   "metadata": {},
   "outputs": [],
   "source": []
  },
  {
   "cell_type": "code",
   "execution_count": 9,
   "metadata": {},
   "outputs": [],
   "source": [
    "cleaned_trips = float_values(parsed_trips)"
   ]
  },
  {
   "cell_type": "code",
   "execution_count": 10,
   "metadata": {},
   "outputs": [
    {
     "data": {
      "text/plain": [
       "{'trip_distance': 18.38,\n",
       " 'pickup_latitude': 40.64499,\n",
       " 'pickup_longitude': -73.78115}"
      ]
     },
     "execution_count": 10,
     "metadata": {},
     "output_type": "execute_result"
    }
   ],
   "source": [
    "cleaned_trips[0]\n",
    "\n",
    "# {'pickup_latitude': 40.64499,\n",
    "#  'pickup_longitude': -73.78115,\n",
    "#  'trip_distance': 18.38}"
   ]
  },
  {
   "cell_type": "markdown",
   "metadata": {},
   "source": [
    "### Exploring the Data"
   ]
  },
  {
   "cell_type": "markdown",
   "metadata": {},
   "source": [
    "Now that we have paired down our data, let's get a sense of our trip data.  We can use the `folium` Python library to plot a map of Manhattan, and our data.  First we must import `folium`, and then use the `Map` function to pass through a `location`, and `zoom_start`.  If a map isn't showing up below, copy and paste the command `pip install -r requirements.txt` into your terminal to install `folium` then try again."
   ]
  },
  {
   "cell_type": "code",
   "execution_count": 11,
   "metadata": {},
   "outputs": [],
   "source": [
    "import folium\n",
    "manhattan_map = folium.Map(location=[40.7589, -73.9851], zoom_start=11)"
   ]
  },
  {
   "cell_type": "code",
   "execution_count": 12,
   "metadata": {
    "scrolled": true
   },
   "outputs": [
    {
     "data": {
      "text/html": [
       "<div style=\"width:100%;\"><div style=\"position:relative;width:100%;height:0;padding-bottom:60%;\"><iframe src=\"data:text/html;charset=utf-8;base64,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\" style=\"position:absolute;width:100%;height:100%;left:0;top:0;border:none !important;\" allowfullscreen webkitallowfullscreen mozallowfullscreen></iframe></div></div>"
      ],
      "text/plain": [
       "<folium.folium.Map at 0x7fd2a82b52b0>"
      ]
     },
     "execution_count": 12,
     "metadata": {},
     "output_type": "execute_result"
    }
   ],
   "source": [
    "manhattan_map"
   ]
  },
  {
   "cell_type": "markdown",
   "metadata": {},
   "source": [
    "Ok, now let's see how we could add a dot to mark a specific location.  We'll start with Times Square."
   ]
  },
  {
   "cell_type": "code",
   "execution_count": 13,
   "metadata": {},
   "outputs": [
    {
     "data": {
      "text/plain": [
       "<folium.vector_layers.CircleMarker at 0x7fd27bc166d8>"
      ]
     },
     "execution_count": 13,
     "metadata": {},
     "output_type": "execute_result"
    }
   ],
   "source": [
    "marker = folium.CircleMarker(location = [40.7589, -73.9851], radius=10)\n",
    "marker.add_to(manhattan_map)"
   ]
  },
  {
   "cell_type": "markdown",
   "metadata": {},
   "source": [
    "Above, we first create a marker.  Then we add that circle marker to the `manhattan_map` we created earlier. "
   ]
  },
  {
   "cell_type": "code",
   "execution_count": 14,
   "metadata": {
    "scrolled": false
   },
   "outputs": [
    {
     "data": {
      "text/html": [
       "<div style=\"width:100%;\"><div style=\"position:relative;width:100%;height:0;padding-bottom:60%;\"><iframe src=\"data:text/html;charset=utf-8;base64,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\" style=\"position:absolute;width:100%;height:100%;left:0;top:0;border:none !important;\" allowfullscreen webkitallowfullscreen mozallowfullscreen></iframe></div></div>"
      ],
      "text/plain": [
       "<folium.folium.Map at 0x7fd2a82b52b0>"
      ]
     },
     "execution_count": 14,
     "metadata": {},
     "output_type": "execute_result"
    }
   ],
   "source": [
    "manhattan_map"
   ]
  },
  {
   "cell_type": "markdown",
   "metadata": {},
   "source": [
    "Do you see that blue dot near Time's Square?  That is our marker.  \n",
    "\n",
    "So now that we can plot one marker on a map, we should have a sense of how we can plot many markers on a map to display our taxi ride data.  We simply plot a map, and then we add a marker for each location of a taxi trip.\n",
    "\n",
    "Now let's write some functions to allow us to plot maps and add markers a little more easily.  "
   ]
  },
  {
   "cell_type": "markdown",
   "metadata": {},
   "source": [
    "#### Writing some map plotting functions"
   ]
  },
  {
   "cell_type": "markdown",
   "metadata": {},
   "source": [
    "As a first step towards this, note that the functions to create both a marker and map each take in a location as two element list, representing the latitude and longitude values.  Take another look:\n",
    "\n",
    "```python\n",
    "marker = folium.CircleMarker(location = [40.7589, -73.9851])\n",
    "manhattan_map = folium.Map(location=[40.7589, -73.9851])\n",
    "```\n",
    "\n",
    "So let's write a function called to create this two element list from a trip.  Write a function called `location` that  takes in a trip as an argument and returns a list where the first element is the latitude and the second is the longitude.  Remember that a location looks like the following:"
   ]
  },
  {
   "cell_type": "code",
   "execution_count": 15,
   "metadata": {},
   "outputs": [
    {
     "data": {
      "text/plain": [
       "{'pickup_latitude': 40.64499,\n",
       " 'pickup_longitude': -73.78115,\n",
       " 'trip_distance': 18.38}"
      ]
     },
     "execution_count": 15,
     "metadata": {},
     "output_type": "execute_result"
    }
   ],
   "source": [
    "first_trip = {'pickup_latitude': 40.64499, 'pickup_longitude': -73.78115,  'trip_distance': 18.38}\n",
    "first_trip"
   ]
  },
  {
   "cell_type": "code",
   "execution_count": 16,
   "metadata": {},
   "outputs": [],
   "source": [
    "def location(trip):\n",
    "    #loc = []\n",
    "    #loc.append(trip['pickup_latitude'])\n",
    "    #loc.append(trip['pickup_longitude'])\n",
    "    return [trip['pickup_latitude'],trip['pickup_longitude']]"
   ]
  },
  {
   "cell_type": "code",
   "execution_count": 17,
   "metadata": {},
   "outputs": [
    {
     "data": {
      "text/plain": [
       "[40.64499, -73.78115]"
      ]
     },
     "execution_count": 17,
     "metadata": {},
     "output_type": "execute_result"
    }
   ],
   "source": [
    "first_location = location(first_trip) # [40.64499, -73.78115]\n",
    "first_location # [40.64499, -73.78115]"
   ]
  },
  {
   "cell_type": "markdown",
   "metadata": {},
   "source": [
    "Ok, now that we can turn a trip into a location, let's turn a location into a marker.  Write a function called `to_marker` that takes in a location (in the form of a list) as an argument, and returns a folium `circleMarker` for that location.  The radius of the marker should always equal 6."
   ]
  },
  {
   "cell_type": "code",
   "execution_count": 18,
   "metadata": {},
   "outputs": [],
   "source": [
    "def to_marker(location):\n",
    "    return folium.CircleMarker(location, radius = 6)"
   ]
  },
  {
   "cell_type": "code",
   "execution_count": 19,
   "metadata": {},
   "outputs": [
    {
     "ename": "TypeError",
     "evalue": "the JSON object must be str, bytes or bytearray, not 'dict'",
     "output_type": "error",
     "traceback": [
      "\u001b[0;31m\u001b[0m",
      "\u001b[0;31mTypeError\u001b[0mTraceback (most recent call last)",
      "\u001b[0;32m<ipython-input-19-aea535683066>\u001b[0m in \u001b[0;36m<module>\u001b[0;34m\u001b[0m\n\u001b[1;32m      3\u001b[0m \u001b[0;34m\u001b[0m\u001b[0m\n\u001b[1;32m      4\u001b[0m \u001b[0mtimes_square_marker\u001b[0m \u001b[0;32mand\u001b[0m \u001b[0mtimes_square_marker\u001b[0m\u001b[0;34m.\u001b[0m\u001b[0mlocation\u001b[0m \u001b[0;31m# [40.7589, -73.9851]\u001b[0m\u001b[0;34m\u001b[0m\u001b[0;34m\u001b[0m\u001b[0m\n\u001b[0;32m----> 5\u001b[0;31m \u001b[0mtimes_square_marker\u001b[0m \u001b[0;32mand\u001b[0m \u001b[0mjson\u001b[0m\u001b[0;34m.\u001b[0m\u001b[0mloads\u001b[0m\u001b[0;34m(\u001b[0m\u001b[0mtimes_square_marker\u001b[0m\u001b[0;34m.\u001b[0m\u001b[0moptions\u001b[0m\u001b[0;34m)\u001b[0m\u001b[0;34m[\u001b[0m\u001b[0;34m'radius'\u001b[0m\u001b[0;34m]\u001b[0m \u001b[0;31m# 6\u001b[0m\u001b[0;34m\u001b[0m\u001b[0;34m\u001b[0m\u001b[0m\n\u001b[0m",
      "\u001b[0;32m/opt/conda/envs/learn-env/lib/python3.6/json/__init__.py\u001b[0m in \u001b[0;36mloads\u001b[0;34m(s, encoding, cls, object_hook, parse_float, parse_int, parse_constant, object_pairs_hook, **kw)\u001b[0m\n\u001b[1;32m    346\u001b[0m         \u001b[0;32mif\u001b[0m \u001b[0;32mnot\u001b[0m \u001b[0misinstance\u001b[0m\u001b[0;34m(\u001b[0m\u001b[0ms\u001b[0m\u001b[0;34m,\u001b[0m \u001b[0;34m(\u001b[0m\u001b[0mbytes\u001b[0m\u001b[0;34m,\u001b[0m \u001b[0mbytearray\u001b[0m\u001b[0;34m)\u001b[0m\u001b[0;34m)\u001b[0m\u001b[0;34m:\u001b[0m\u001b[0;34m\u001b[0m\u001b[0;34m\u001b[0m\u001b[0m\n\u001b[1;32m    347\u001b[0m             raise TypeError('the JSON object must be str, bytes or bytearray, '\n\u001b[0;32m--> 348\u001b[0;31m                             'not {!r}'.format(s.__class__.__name__))\n\u001b[0m\u001b[1;32m    349\u001b[0m         \u001b[0ms\u001b[0m \u001b[0;34m=\u001b[0m \u001b[0ms\u001b[0m\u001b[0;34m.\u001b[0m\u001b[0mdecode\u001b[0m\u001b[0;34m(\u001b[0m\u001b[0mdetect_encoding\u001b[0m\u001b[0;34m(\u001b[0m\u001b[0ms\u001b[0m\u001b[0;34m)\u001b[0m\u001b[0;34m,\u001b[0m \u001b[0;34m'surrogatepass'\u001b[0m\u001b[0;34m)\u001b[0m\u001b[0;34m\u001b[0m\u001b[0;34m\u001b[0m\u001b[0m\n\u001b[1;32m    350\u001b[0m \u001b[0;34m\u001b[0m\u001b[0m\n",
      "\u001b[0;31mTypeError\u001b[0m: the JSON object must be str, bytes or bytearray, not 'dict'"
     ]
    }
   ],
   "source": [
    "import json\n",
    "times_square_marker = to_marker([40.7589, -73.9851])\n",
    "\n",
    "times_square_marker and times_square_marker.location # [40.7589, -73.9851]\n",
    "times_square_marker and json.loads(times_square_marker.options)['radius'] # 6"
   ]
  },
  {
   "cell_type": "markdown",
   "metadata": {},
   "source": [
    "Ok, now that we know how to produce a single marker, let's write a function to produce lots.  We can write a function called `markers_from_trips` that takes in a list of trips, and returns a marker object for each trip.  "
   ]
  },
  {
   "cell_type": "code",
   "execution_count": 20,
   "metadata": {},
   "outputs": [],
   "source": [
    "def markers_from_trips(trips):\n",
    "    #list of locations\n",
    "    location_list = list(map(lambda loc: location(loc),trips))\n",
    "    markers_list = []\n",
    "    markers_list = list(map(lambda mark: to_marker(mark),location_list))\n",
    "    return markers_list"
   ]
  },
  {
   "cell_type": "code",
   "execution_count": 31,
   "metadata": {},
   "outputs": [],
   "source": [
    "trip_markers = markers_from_trips(cleaned_trips)"
   ]
  },
  {
   "cell_type": "code",
   "execution_count": 32,
   "metadata": {},
   "outputs": [
    {
     "data": {
      "text/plain": [
       "[{'trip_distance': 18.38,\n",
       "  'pickup_latitude': 40.64499,\n",
       "  'pickup_longitude': -73.78115},\n",
       " {'trip_distance': 1.3,\n",
       "  'pickup_latitude': 40.766931,\n",
       "  'pickup_longitude': -73.982098},\n",
       " {'trip_distance': 4.5,\n",
       "  'pickup_latitude': 40.77773,\n",
       "  'pickup_longitude': -73.951902},\n",
       " {'trip_distance': 2.4,\n",
       "  'pickup_latitude': 40.795678,\n",
       "  'pickup_longitude': -73.971049}]"
      ]
     },
     "execution_count": 32,
     "metadata": {},
     "output_type": "execute_result"
    }
   ],
   "source": [
    "cleaned_trips[0:4]"
   ]
  },
  {
   "cell_type": "code",
   "execution_count": 33,
   "metadata": {},
   "outputs": [
    {
     "data": {
      "text/plain": [
       "[[40.64499, -73.78115],\n",
       " [40.766931, -73.982098],\n",
       " [40.77773, -73.951902],\n",
       " [40.795678, -73.971049]]"
      ]
     },
     "execution_count": 33,
     "metadata": {},
     "output_type": "execute_result"
    }
   ],
   "source": [
    "trip_markers and len(trip_markers) # 1000\n",
    "\n",
    "list(map(lambda marker: marker.location, trip_markers[0:4]))\n",
    "# [[40.64499, -73.78115],\n",
    "#  [40.766931, -73.982098],\n",
    "#  [40.77773, -73.951902],\n",
    "#  [40.795678, -73.971049]]"
   ]
  },
  {
   "cell_type": "markdown",
   "metadata": {},
   "source": [
    "Ok, now that we have a function that creates locations, and a function that creates markers, it is time to write a function to plot a map. \n",
    "\n",
    "Write a function called `map_from` that, provided the first argument of a list location and second argument an integer representing the `zoom_start`, returns a `folium` map the corresponding location and `zoom_start` attributes.\n",
    "\n",
    "> Hint: The following is how to write a map with folium:\n",
    "> ```python \n",
    "    folium.Map(location=location, zoom_start=zoom_amount)\n",
    "> ```"
   ]
  },
  {
   "cell_type": "code",
   "execution_count": 34,
   "metadata": {},
   "outputs": [],
   "source": [
    "def map_from(location, zoom_amount):\n",
    "    return folium.Map(location=location, zoom_start=zoom_amount)\n",
    "    "
   ]
  },
  {
   "cell_type": "code",
   "execution_count": 35,
   "metadata": {},
   "outputs": [
    {
     "data": {
      "text/plain": [
       "[40.7589, -73.9851]"
      ]
     },
     "execution_count": 35,
     "metadata": {},
     "output_type": "execute_result"
    }
   ],
   "source": [
    "times_square_map = map_from([40.7589, -73.9851], 15)\n",
    "times_square_map and times_square_map.location # [40.7589, -73.9851]\n",
    "#times_square_map and times_square_map.zoom_start # 15"
   ]
  },
  {
   "cell_type": "code",
   "execution_count": 36,
   "metadata": {
    "scrolled": true
   },
   "outputs": [
    {
     "data": {
      "text/html": [
       "<div style=\"width:100%;\"><div style=\"position:relative;width:100%;height:0;padding-bottom:60%;\"><iframe src=\"data:text/html;charset=utf-8;base64,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\" style=\"position:absolute;width:100%;height:100%;left:0;top:0;border:none !important;\" allowfullscreen webkitallowfullscreen mozallowfullscreen></iframe></div></div>"
      ],
      "text/plain": [
       "<folium.folium.Map at 0x7fd27bc164a8>"
      ]
     },
     "execution_count": 36,
     "metadata": {},
     "output_type": "execute_result"
    }
   ],
   "source": [
    "times_square_marker and times_square_marker.add_to(times_square_map)\n",
    "times_square_map"
   ]
  },
  {
   "cell_type": "markdown",
   "metadata": {},
   "source": [
    "Now that we have a marker and a map, now let's write a function that adds a lot of markers to a map.  This function should add each marker in the list to the map object then return the updated map object."
   ]
  },
  {
   "cell_type": "code",
   "execution_count": 41,
   "metadata": {},
   "outputs": [],
   "source": [
    "manhattan_map = map_from([40.7589, -73.9851], 13)"
   ]
  },
  {
   "cell_type": "code",
   "execution_count": 42,
   "metadata": {},
   "outputs": [
    {
     "data": {
      "text/plain": [
       "[<folium.vector_layers.CircleMarker at 0x7fd27bb65fd0>,\n",
       " <folium.vector_layers.CircleMarker at 0x7fd27bb65ef0>,\n",
       " <folium.vector_layers.CircleMarker at 0x7fd27bac7080>,\n",
       " <folium.vector_layers.CircleMarker at 0x7fd27bac70b8>,\n",
       " <folium.vector_layers.CircleMarker at 0x7fd27bac70f0>,\n",
       " <folium.vector_layers.CircleMarker at 0x7fd27bac7128>,\n",
       " <folium.vector_layers.CircleMarker at 0x7fd27bac71d0>,\n",
       " <folium.vector_layers.CircleMarker at 0x7fd27bac7208>,\n",
       " <folium.vector_layers.CircleMarker at 0x7fd27bac7278>,\n",
       " <folium.vector_layers.CircleMarker at 0x7fd27bac72b0>,\n",
       " <folium.vector_layers.CircleMarker at 0x7fd27bac72e8>,\n",
       " <folium.vector_layers.CircleMarker at 0x7fd27bac7320>,\n",
       " <folium.vector_layers.CircleMarker at 0x7fd27bac7358>,\n",
       " <folium.vector_layers.CircleMarker at 0x7fd27bac7390>,\n",
       " <folium.vector_layers.CircleMarker at 0x7fd27bac73c8>,\n",
       " <folium.vector_layers.CircleMarker at 0x7fd27bac7400>,\n",
       " <folium.vector_layers.CircleMarker at 0x7fd27bac7160>,\n",
       " <folium.vector_layers.CircleMarker at 0x7fd27bac7198>,\n",
       " <folium.vector_layers.CircleMarker at 0x7fd27bac7438>,\n",
       " <folium.vector_layers.CircleMarker at 0x7fd27bac7470>,\n",
       " <folium.vector_layers.CircleMarker at 0x7fd27bac74a8>,\n",
       " <folium.vector_layers.CircleMarker at 0x7fd27bac74e0>,\n",
       " <folium.vector_layers.CircleMarker at 0x7fd27bac7518>,\n",
       " <folium.vector_layers.CircleMarker at 0x7fd27bac7550>,\n",
       " <folium.vector_layers.CircleMarker at 0x7fd27bac7588>,\n",
       " <folium.vector_layers.CircleMarker at 0x7fd27bac75c0>,\n",
       " <folium.vector_layers.CircleMarker at 0x7fd27bac75f8>,\n",
       " <folium.vector_layers.CircleMarker at 0x7fd27bac7630>,\n",
       " <folium.vector_layers.CircleMarker at 0x7fd27bc165f8>,\n",
       " <folium.vector_layers.CircleMarker at 0x7fd27bac7668>,\n",
       " <folium.vector_layers.CircleMarker at 0x7fd27bac76a0>,\n",
       " <folium.vector_layers.CircleMarker at 0x7fd27bac76d8>,\n",
       " <folium.vector_layers.CircleMarker at 0x7fd27bac7710>,\n",
       " <folium.vector_layers.CircleMarker at 0x7fd27bac7748>,\n",
       " <folium.vector_layers.CircleMarker at 0x7fd27bac7780>,\n",
       " <folium.vector_layers.CircleMarker at 0x7fd27bac77b8>,\n",
       " <folium.vector_layers.CircleMarker at 0x7fd27bac77f0>,\n",
       " <folium.vector_layers.CircleMarker at 0x7fd27bac7828>,\n",
       " <folium.vector_layers.CircleMarker at 0x7fd27bac7860>,\n",
       " <folium.vector_layers.CircleMarker at 0x7fd27bac7898>,\n",
       " <folium.vector_layers.CircleMarker at 0x7fd27bac78d0>,\n",
       " <folium.vector_layers.CircleMarker at 0x7fd27bac7908>,\n",
       " <folium.vector_layers.CircleMarker at 0x7fd27bac7940>,\n",
       " <folium.vector_layers.CircleMarker at 0x7fd27bac7978>,\n",
       " <folium.vector_layers.CircleMarker at 0x7fd27bac79b0>,\n",
       " <folium.vector_layers.CircleMarker at 0x7fd27bac79e8>,\n",
       " <folium.vector_layers.CircleMarker at 0x7fd27bac7a20>,\n",
       " <folium.vector_layers.CircleMarker at 0x7fd27bac7a58>,\n",
       " <folium.vector_layers.CircleMarker at 0x7fd27bac7a90>,\n",
       " <folium.vector_layers.CircleMarker at 0x7fd27bac7ac8>,\n",
       " <folium.vector_layers.CircleMarker at 0x7fd27bac7b00>,\n",
       " <folium.vector_layers.CircleMarker at 0x7fd27bac7b38>,\n",
       " <folium.vector_layers.CircleMarker at 0x7fd27bac7b70>,\n",
       " <folium.vector_layers.CircleMarker at 0x7fd27bac7ba8>,\n",
       " <folium.vector_layers.CircleMarker at 0x7fd27bac7be0>,\n",
       " <folium.vector_layers.CircleMarker at 0x7fd27bac7c18>,\n",
       " <folium.vector_layers.CircleMarker at 0x7fd27bac7c50>,\n",
       " <folium.vector_layers.CircleMarker at 0x7fd27bac7c88>,\n",
       " <folium.vector_layers.CircleMarker at 0x7fd27bac7cc0>,\n",
       " <folium.vector_layers.CircleMarker at 0x7fd27bac7cf8>,\n",
       " <folium.vector_layers.CircleMarker at 0x7fd27bac7d30>,\n",
       " <folium.vector_layers.CircleMarker at 0x7fd27bac7d68>,\n",
       " <folium.vector_layers.CircleMarker at 0x7fd27bac7da0>,\n",
       " <folium.vector_layers.CircleMarker at 0x7fd27bac7dd8>,\n",
       " <folium.vector_layers.CircleMarker at 0x7fd27bac7e10>,\n",
       " <folium.vector_layers.CircleMarker at 0x7fd27bac7e48>,\n",
       " <folium.vector_layers.CircleMarker at 0x7fd27bac7e80>,\n",
       " <folium.vector_layers.CircleMarker at 0x7fd27bac7eb8>,\n",
       " <folium.vector_layers.CircleMarker at 0x7fd27bac7ef0>,\n",
       " <folium.vector_layers.CircleMarker at 0x7fd27bac7f28>,\n",
       " <folium.vector_layers.CircleMarker at 0x7fd27bac7f60>,\n",
       " <folium.vector_layers.CircleMarker at 0x7fd27bac7f98>,\n",
       " <folium.vector_layers.CircleMarker at 0x7fd27bac7fd0>,\n",
       " <folium.vector_layers.CircleMarker at 0x7fd27bac7048>,\n",
       " <folium.vector_layers.CircleMarker at 0x7fd27bad1080>,\n",
       " <folium.vector_layers.CircleMarker at 0x7fd27bad10b8>,\n",
       " <folium.vector_layers.CircleMarker at 0x7fd27bad10f0>,\n",
       " <folium.vector_layers.CircleMarker at 0x7fd27bad1128>,\n",
       " <folium.vector_layers.CircleMarker at 0x7fd27bad1160>,\n",
       " <folium.vector_layers.CircleMarker at 0x7fd27bad1198>,\n",
       " <folium.vector_layers.CircleMarker at 0x7fd27bad11d0>,\n",
       " <folium.vector_layers.CircleMarker at 0x7fd27bad1208>,\n",
       " <folium.vector_layers.CircleMarker at 0x7fd27bad1240>,\n",
       " <folium.vector_layers.CircleMarker at 0x7fd27bad1278>,\n",
       " <folium.vector_layers.CircleMarker at 0x7fd27bad12b0>,\n",
       " <folium.vector_layers.CircleMarker at 0x7fd27bad12e8>,\n",
       " <folium.vector_layers.CircleMarker at 0x7fd27bad1320>,\n",
       " <folium.vector_layers.CircleMarker at 0x7fd27bad1358>,\n",
       " <folium.vector_layers.CircleMarker at 0x7fd27bad1390>,\n",
       " <folium.vector_layers.CircleMarker at 0x7fd27bad13c8>,\n",
       " <folium.vector_layers.CircleMarker at 0x7fd27bad1400>,\n",
       " <folium.vector_layers.CircleMarker at 0x7fd27bad1438>,\n",
       " <folium.vector_layers.CircleMarker at 0x7fd27bad1470>,\n",
       " <folium.vector_layers.CircleMarker at 0x7fd27bad14a8>,\n",
       " <folium.vector_layers.CircleMarker at 0x7fd27bad14e0>,\n",
       " <folium.vector_layers.CircleMarker at 0x7fd27bad1518>,\n",
       " <folium.vector_layers.CircleMarker at 0x7fd27bad1550>,\n",
       " <folium.vector_layers.CircleMarker at 0x7fd27bad1588>,\n",
       " <folium.vector_layers.CircleMarker at 0x7fd27bad15c0>,\n",
       " <folium.vector_layers.CircleMarker at 0x7fd27bad15f8>,\n",
       " <folium.vector_layers.CircleMarker at 0x7fd27bad1630>,\n",
       " <folium.vector_layers.CircleMarker at 0x7fd27bad1668>,\n",
       " <folium.vector_layers.CircleMarker at 0x7fd27bac7240>,\n",
       " <folium.vector_layers.CircleMarker at 0x7fd27bad16d8>,\n",
       " <folium.vector_layers.CircleMarker at 0x7fd27bad1710>,\n",
       " <folium.vector_layers.CircleMarker at 0x7fd27bad1748>,\n",
       " <folium.vector_layers.CircleMarker at 0x7fd27bad1780>,\n",
       " <folium.vector_layers.CircleMarker at 0x7fd27bad17b8>,\n",
       " <folium.vector_layers.CircleMarker at 0x7fd27bad17f0>,\n",
       " <folium.vector_layers.CircleMarker at 0x7fd27bad1828>,\n",
       " <folium.vector_layers.CircleMarker at 0x7fd27bad1860>,\n",
       " <folium.vector_layers.CircleMarker at 0x7fd27bad1898>,\n",
       " <folium.vector_layers.CircleMarker at 0x7fd27bad18d0>,\n",
       " <folium.vector_layers.CircleMarker at 0x7fd27bad1908>,\n",
       " <folium.vector_layers.CircleMarker at 0x7fd27bad1940>,\n",
       " <folium.vector_layers.CircleMarker at 0x7fd27bad1978>,\n",
       " <folium.vector_layers.CircleMarker at 0x7fd27bad19b0>,\n",
       " <folium.vector_layers.CircleMarker at 0x7fd27bad19e8>,\n",
       " <folium.vector_layers.CircleMarker at 0x7fd27bad1a20>,\n",
       " <folium.vector_layers.CircleMarker at 0x7fd27bad1a58>,\n",
       " <folium.vector_layers.CircleMarker at 0x7fd27bad1a90>,\n",
       " <folium.vector_layers.CircleMarker at 0x7fd27bad1ac8>,\n",
       " <folium.vector_layers.CircleMarker at 0x7fd27bad1b00>,\n",
       " <folium.vector_layers.CircleMarker at 0x7fd27bad1b38>,\n",
       " <folium.vector_layers.CircleMarker at 0x7fd27bad1b70>,\n",
       " <folium.vector_layers.CircleMarker at 0x7fd27bad1ba8>,\n",
       " <folium.vector_layers.CircleMarker at 0x7fd27bad1be0>,\n",
       " <folium.vector_layers.CircleMarker at 0x7fd27bad1c18>,\n",
       " <folium.vector_layers.CircleMarker at 0x7fd27bad1c50>,\n",
       " <folium.vector_layers.CircleMarker at 0x7fd27bad1c88>,\n",
       " <folium.vector_layers.CircleMarker at 0x7fd27bad1cc0>,\n",
       " <folium.vector_layers.CircleMarker at 0x7fd27bad1cf8>,\n",
       " <folium.vector_layers.CircleMarker at 0x7fd27bad1d30>,\n",
       " <folium.vector_layers.CircleMarker at 0x7fd27bad1d68>,\n",
       " <folium.vector_layers.CircleMarker at 0x7fd27bad1da0>,\n",
       " <folium.vector_layers.CircleMarker at 0x7fd27bad1dd8>,\n",
       " <folium.vector_layers.CircleMarker at 0x7fd27bad1e10>,\n",
       " <folium.vector_layers.CircleMarker at 0x7fd27bad1e48>,\n",
       " <folium.vector_layers.CircleMarker at 0x7fd27bad1e80>,\n",
       " <folium.vector_layers.CircleMarker at 0x7fd27bad1eb8>,\n",
       " <folium.vector_layers.CircleMarker at 0x7fd27bad1ef0>,\n",
       " <folium.vector_layers.CircleMarker at 0x7fd27bad1f28>,\n",
       " <folium.vector_layers.CircleMarker at 0x7fd27bad1f60>,\n",
       " <folium.vector_layers.CircleMarker at 0x7fd27bad1f98>,\n",
       " <folium.vector_layers.CircleMarker at 0x7fd27bad1fd0>,\n",
       " <folium.vector_layers.CircleMarker at 0x7fd27bad1048>,\n",
       " <folium.vector_layers.CircleMarker at 0x7fd27ba5f080>,\n",
       " <folium.vector_layers.CircleMarker at 0x7fd27ba5f0b8>,\n",
       " <folium.vector_layers.CircleMarker at 0x7fd27ba5f0f0>,\n",
       " <folium.vector_layers.CircleMarker at 0x7fd27ba5f128>,\n",
       " <folium.vector_layers.CircleMarker at 0x7fd27ba5f160>,\n",
       " <folium.vector_layers.CircleMarker at 0x7fd27ba5f198>,\n",
       " <folium.vector_layers.CircleMarker at 0x7fd27ba5f1d0>,\n",
       " <folium.vector_layers.CircleMarker at 0x7fd27ba5f208>,\n",
       " <folium.vector_layers.CircleMarker at 0x7fd27ba5f240>,\n",
       " <folium.vector_layers.CircleMarker at 0x7fd27ba5f278>,\n",
       " <folium.vector_layers.CircleMarker at 0x7fd27ba5f2b0>,\n",
       " <folium.vector_layers.CircleMarker at 0x7fd27ba5f2e8>,\n",
       " <folium.vector_layers.CircleMarker at 0x7fd27ba5f320>,\n",
       " <folium.vector_layers.CircleMarker at 0x7fd27ba5f358>,\n",
       " <folium.vector_layers.CircleMarker at 0x7fd27ba5f390>,\n",
       " <folium.vector_layers.CircleMarker at 0x7fd27ba5f3c8>,\n",
       " <folium.vector_layers.CircleMarker at 0x7fd27ba5f400>,\n",
       " <folium.vector_layers.CircleMarker at 0x7fd27ba5f438>,\n",
       " <folium.vector_layers.CircleMarker at 0x7fd27ba5f470>,\n",
       " <folium.vector_layers.CircleMarker at 0x7fd27ba5f4a8>,\n",
       " <folium.vector_layers.CircleMarker at 0x7fd27ba5f4e0>,\n",
       " <folium.vector_layers.CircleMarker at 0x7fd27ba5f518>,\n",
       " <folium.vector_layers.CircleMarker at 0x7fd27ba5f550>,\n",
       " <folium.vector_layers.CircleMarker at 0x7fd27ba5f588>,\n",
       " <folium.vector_layers.CircleMarker at 0x7fd27ba5f5c0>,\n",
       " <folium.vector_layers.CircleMarker at 0x7fd27ba5f5f8>,\n",
       " <folium.vector_layers.CircleMarker at 0x7fd27ba5f630>,\n",
       " <folium.vector_layers.CircleMarker at 0x7fd27ba5f668>,\n",
       " <folium.vector_layers.CircleMarker at 0x7fd27ba5f6a0>,\n",
       " <folium.vector_layers.CircleMarker at 0x7fd27ba5f6d8>,\n",
       " <folium.vector_layers.CircleMarker at 0x7fd27ba5f710>,\n",
       " <folium.vector_layers.CircleMarker at 0x7fd27ba5f748>,\n",
       " <folium.vector_layers.CircleMarker at 0x7fd27ba5f780>,\n",
       " <folium.vector_layers.CircleMarker at 0x7fd27ba5f7b8>,\n",
       " <folium.vector_layers.CircleMarker at 0x7fd27ba5f7f0>,\n",
       " <folium.vector_layers.CircleMarker at 0x7fd27ba5f828>,\n",
       " <folium.vector_layers.CircleMarker at 0x7fd27ba5f860>,\n",
       " <folium.vector_layers.CircleMarker at 0x7fd27ba5f898>,\n",
       " <folium.vector_layers.CircleMarker at 0x7fd27ba5f8d0>,\n",
       " <folium.vector_layers.CircleMarker at 0x7fd27ba5f908>,\n",
       " <folium.vector_layers.CircleMarker at 0x7fd27ba5f940>,\n",
       " <folium.vector_layers.CircleMarker at 0x7fd27ba5f978>,\n",
       " <folium.vector_layers.CircleMarker at 0x7fd27ba5f9b0>,\n",
       " <folium.vector_layers.CircleMarker at 0x7fd27ba5f9e8>,\n",
       " <folium.vector_layers.CircleMarker at 0x7fd27ba5fa20>,\n",
       " <folium.vector_layers.CircleMarker at 0x7fd27ba5fa58>,\n",
       " <folium.vector_layers.CircleMarker at 0x7fd27ba5fa90>,\n",
       " <folium.vector_layers.CircleMarker at 0x7fd27ba5fac8>,\n",
       " <folium.vector_layers.CircleMarker at 0x7fd27ba5fb00>,\n",
       " <folium.vector_layers.CircleMarker at 0x7fd27ba5fb38>,\n",
       " <folium.vector_layers.CircleMarker at 0x7fd27ba5fb70>,\n",
       " <folium.vector_layers.CircleMarker at 0x7fd27ba5fba8>,\n",
       " <folium.vector_layers.CircleMarker at 0x7fd27ba5fbe0>,\n",
       " <folium.vector_layers.CircleMarker at 0x7fd27ba5fc18>,\n",
       " <folium.vector_layers.CircleMarker at 0x7fd27ba5fc50>,\n",
       " <folium.vector_layers.CircleMarker at 0x7fd27ba5fc88>,\n",
       " <folium.vector_layers.CircleMarker at 0x7fd27ba5fcc0>,\n",
       " <folium.vector_layers.CircleMarker at 0x7fd27ba5fcf8>,\n",
       " <folium.vector_layers.CircleMarker at 0x7fd27ba5fd30>,\n",
       " <folium.vector_layers.CircleMarker at 0x7fd27ba5fd68>,\n",
       " <folium.vector_layers.CircleMarker at 0x7fd27ba5fda0>,\n",
       " <folium.vector_layers.CircleMarker at 0x7fd27ba5fdd8>,\n",
       " <folium.vector_layers.CircleMarker at 0x7fd27ba5fe10>,\n",
       " <folium.vector_layers.CircleMarker at 0x7fd27ba5fe48>,\n",
       " <folium.vector_layers.CircleMarker at 0x7fd27ba5fe80>,\n",
       " <folium.vector_layers.CircleMarker at 0x7fd27ba5feb8>,\n",
       " <folium.vector_layers.CircleMarker at 0x7fd27ba5fef0>,\n",
       " <folium.vector_layers.CircleMarker at 0x7fd27ba5ff28>,\n",
       " <folium.vector_layers.CircleMarker at 0x7fd27ba5ff60>,\n",
       " <folium.vector_layers.CircleMarker at 0x7fd27ba5ff98>,\n",
       " <folium.vector_layers.CircleMarker at 0x7fd27ba5ffd0>,\n",
       " <folium.vector_layers.CircleMarker at 0x7fd27ba5f048>,\n",
       " <folium.vector_layers.CircleMarker at 0x7fd27ba6c080>,\n",
       " <folium.vector_layers.CircleMarker at 0x7fd27ba6c0b8>,\n",
       " <folium.vector_layers.CircleMarker at 0x7fd27ba6c0f0>,\n",
       " <folium.vector_layers.CircleMarker at 0x7fd27ba6c128>,\n",
       " <folium.vector_layers.CircleMarker at 0x7fd27ba6c160>,\n",
       " <folium.vector_layers.CircleMarker at 0x7fd27ba6c198>,\n",
       " <folium.vector_layers.CircleMarker at 0x7fd27ba6c1d0>,\n",
       " <folium.vector_layers.CircleMarker at 0x7fd27ba6c208>,\n",
       " <folium.vector_layers.CircleMarker at 0x7fd27ba6c240>,\n",
       " <folium.vector_layers.CircleMarker at 0x7fd27ba6c278>,\n",
       " <folium.vector_layers.CircleMarker at 0x7fd27ba6c2b0>,\n",
       " <folium.vector_layers.CircleMarker at 0x7fd27ba6c2e8>,\n",
       " <folium.vector_layers.CircleMarker at 0x7fd27ba6c320>,\n",
       " <folium.vector_layers.CircleMarker at 0x7fd27ba6c358>,\n",
       " <folium.vector_layers.CircleMarker at 0x7fd27ba6c390>,\n",
       " <folium.vector_layers.CircleMarker at 0x7fd27ba6c3c8>,\n",
       " <folium.vector_layers.CircleMarker at 0x7fd27ba6c400>,\n",
       " <folium.vector_layers.CircleMarker at 0x7fd27ba6c438>,\n",
       " <folium.vector_layers.CircleMarker at 0x7fd27ba6c470>,\n",
       " <folium.vector_layers.CircleMarker at 0x7fd27ba6c4a8>,\n",
       " <folium.vector_layers.CircleMarker at 0x7fd27ba6c4e0>,\n",
       " <folium.vector_layers.CircleMarker at 0x7fd27ba6c518>,\n",
       " <folium.vector_layers.CircleMarker at 0x7fd27ba6c550>,\n",
       " <folium.vector_layers.CircleMarker at 0x7fd27ba6c588>,\n",
       " <folium.vector_layers.CircleMarker at 0x7fd27ba6c5c0>,\n",
       " <folium.vector_layers.CircleMarker at 0x7fd27ba6c5f8>,\n",
       " <folium.vector_layers.CircleMarker at 0x7fd27ba6c630>,\n",
       " <folium.vector_layers.CircleMarker at 0x7fd27ba6c668>,\n",
       " <folium.vector_layers.CircleMarker at 0x7fd27ba6c6a0>,\n",
       " <folium.vector_layers.CircleMarker at 0x7fd27ba6c6d8>,\n",
       " <folium.vector_layers.CircleMarker at 0x7fd27ba6c710>,\n",
       " <folium.vector_layers.CircleMarker at 0x7fd27ba6c748>,\n",
       " <folium.vector_layers.CircleMarker at 0x7fd27ba6c780>,\n",
       " <folium.vector_layers.CircleMarker at 0x7fd27ba6c7b8>,\n",
       " <folium.vector_layers.CircleMarker at 0x7fd27ba6c7f0>,\n",
       " <folium.vector_layers.CircleMarker at 0x7fd27ba6c828>,\n",
       " <folium.vector_layers.CircleMarker at 0x7fd27ba6c860>,\n",
       " <folium.vector_layers.CircleMarker at 0x7fd27ba6c898>,\n",
       " <folium.vector_layers.CircleMarker at 0x7fd27ba6c8d0>,\n",
       " <folium.vector_layers.CircleMarker at 0x7fd27ba6c908>,\n",
       " <folium.vector_layers.CircleMarker at 0x7fd27ba6c940>,\n",
       " <folium.vector_layers.CircleMarker at 0x7fd27ba6c978>,\n",
       " <folium.vector_layers.CircleMarker at 0x7fd27ba6c9b0>,\n",
       " <folium.vector_layers.CircleMarker at 0x7fd27ba6c9e8>,\n",
       " <folium.vector_layers.CircleMarker at 0x7fd27ba6ca20>,\n",
       " <folium.vector_layers.CircleMarker at 0x7fd27ba6ca58>,\n",
       " <folium.vector_layers.CircleMarker at 0x7fd27ba6ca90>,\n",
       " <folium.vector_layers.CircleMarker at 0x7fd27ba6cac8>,\n",
       " <folium.vector_layers.CircleMarker at 0x7fd27ba6cb00>,\n",
       " <folium.vector_layers.CircleMarker at 0x7fd27ba6cb38>,\n",
       " <folium.vector_layers.CircleMarker at 0x7fd27ba6cb70>,\n",
       " <folium.vector_layers.CircleMarker at 0x7fd27ba6cba8>,\n",
       " <folium.vector_layers.CircleMarker at 0x7fd27ba6cbe0>,\n",
       " <folium.vector_layers.CircleMarker at 0x7fd27ba6cc18>,\n",
       " <folium.vector_layers.CircleMarker at 0x7fd27ba6cc50>,\n",
       " <folium.vector_layers.CircleMarker at 0x7fd27ba6cc88>,\n",
       " <folium.vector_layers.CircleMarker at 0x7fd27ba6ccc0>,\n",
       " <folium.vector_layers.CircleMarker at 0x7fd27ba6ccf8>,\n",
       " <folium.vector_layers.CircleMarker at 0x7fd27ba6cd30>,\n",
       " <folium.vector_layers.CircleMarker at 0x7fd27ba6cd68>,\n",
       " <folium.vector_layers.CircleMarker at 0x7fd27ba6cda0>,\n",
       " <folium.vector_layers.CircleMarker at 0x7fd27ba6cdd8>,\n",
       " <folium.vector_layers.CircleMarker at 0x7fd27ba6ce10>,\n",
       " <folium.vector_layers.CircleMarker at 0x7fd27ba6ce48>,\n",
       " <folium.vector_layers.CircleMarker at 0x7fd27ba6ce80>,\n",
       " <folium.vector_layers.CircleMarker at 0x7fd27ba6ceb8>,\n",
       " <folium.vector_layers.CircleMarker at 0x7fd27ba6cef0>,\n",
       " <folium.vector_layers.CircleMarker at 0x7fd27ba6cf28>,\n",
       " <folium.vector_layers.CircleMarker at 0x7fd27ba6cf60>,\n",
       " <folium.vector_layers.CircleMarker at 0x7fd27ba6cf98>,\n",
       " <folium.vector_layers.CircleMarker at 0x7fd27ba6cfd0>,\n",
       " <folium.vector_layers.CircleMarker at 0x7fd27ba6c048>,\n",
       " <folium.vector_layers.CircleMarker at 0x7fd27ba7a080>,\n",
       " <folium.vector_layers.CircleMarker at 0x7fd27ba7a0b8>,\n",
       " <folium.vector_layers.CircleMarker at 0x7fd27ba7a0f0>,\n",
       " <folium.vector_layers.CircleMarker at 0x7fd27ba7a128>,\n",
       " <folium.vector_layers.CircleMarker at 0x7fd27ba7a160>,\n",
       " <folium.vector_layers.CircleMarker at 0x7fd27ba7a198>,\n",
       " <folium.vector_layers.CircleMarker at 0x7fd27ba7a1d0>,\n",
       " <folium.vector_layers.CircleMarker at 0x7fd27ba7a208>,\n",
       " <folium.vector_layers.CircleMarker at 0x7fd27ba7a240>,\n",
       " <folium.vector_layers.CircleMarker at 0x7fd27ba7a278>,\n",
       " <folium.vector_layers.CircleMarker at 0x7fd27ba7a2b0>,\n",
       " <folium.vector_layers.CircleMarker at 0x7fd27ba7a2e8>,\n",
       " <folium.vector_layers.CircleMarker at 0x7fd27ba7a320>,\n",
       " <folium.vector_layers.CircleMarker at 0x7fd27ba7a358>,\n",
       " <folium.vector_layers.CircleMarker at 0x7fd27ba7a390>,\n",
       " <folium.vector_layers.CircleMarker at 0x7fd27ba7a3c8>,\n",
       " <folium.vector_layers.CircleMarker at 0x7fd27ba7a400>,\n",
       " <folium.vector_layers.CircleMarker at 0x7fd27ba7a438>,\n",
       " <folium.vector_layers.CircleMarker at 0x7fd27ba7a470>,\n",
       " <folium.vector_layers.CircleMarker at 0x7fd27ba7a4a8>,\n",
       " <folium.vector_layers.CircleMarker at 0x7fd27ba7a4e0>,\n",
       " <folium.vector_layers.CircleMarker at 0x7fd27ba7a518>,\n",
       " <folium.vector_layers.CircleMarker at 0x7fd27ba7a550>,\n",
       " <folium.vector_layers.CircleMarker at 0x7fd27ba7a588>,\n",
       " <folium.vector_layers.CircleMarker at 0x7fd27ba7a5c0>,\n",
       " <folium.vector_layers.CircleMarker at 0x7fd27ba7a5f8>,\n",
       " <folium.vector_layers.CircleMarker at 0x7fd27ba7a630>,\n",
       " <folium.vector_layers.CircleMarker at 0x7fd27ba7a668>,\n",
       " <folium.vector_layers.CircleMarker at 0x7fd27ba7a6a0>,\n",
       " <folium.vector_layers.CircleMarker at 0x7fd27ba7a6d8>,\n",
       " <folium.vector_layers.CircleMarker at 0x7fd27ba7a710>,\n",
       " <folium.vector_layers.CircleMarker at 0x7fd27ba7a748>,\n",
       " <folium.vector_layers.CircleMarker at 0x7fd27ba7a780>,\n",
       " <folium.vector_layers.CircleMarker at 0x7fd27ba7a7b8>,\n",
       " <folium.vector_layers.CircleMarker at 0x7fd27ba7a7f0>,\n",
       " <folium.vector_layers.CircleMarker at 0x7fd27ba7a828>,\n",
       " <folium.vector_layers.CircleMarker at 0x7fd27ba7a860>,\n",
       " <folium.vector_layers.CircleMarker at 0x7fd27ba7a898>,\n",
       " <folium.vector_layers.CircleMarker at 0x7fd27ba7a8d0>,\n",
       " <folium.vector_layers.CircleMarker at 0x7fd27ba7a908>,\n",
       " <folium.vector_layers.CircleMarker at 0x7fd27ba7a940>,\n",
       " <folium.vector_layers.CircleMarker at 0x7fd27ba7a978>,\n",
       " <folium.vector_layers.CircleMarker at 0x7fd27ba7a9b0>,\n",
       " <folium.vector_layers.CircleMarker at 0x7fd27ba7a9e8>,\n",
       " <folium.vector_layers.CircleMarker at 0x7fd27ba7aa20>,\n",
       " <folium.vector_layers.CircleMarker at 0x7fd27ba7aa58>,\n",
       " <folium.vector_layers.CircleMarker at 0x7fd27ba7aa90>,\n",
       " <folium.vector_layers.CircleMarker at 0x7fd27ba7aac8>,\n",
       " <folium.vector_layers.CircleMarker at 0x7fd27ba7ab00>,\n",
       " <folium.vector_layers.CircleMarker at 0x7fd27ba7ab38>,\n",
       " <folium.vector_layers.CircleMarker at 0x7fd27ba7ab70>,\n",
       " <folium.vector_layers.CircleMarker at 0x7fd27ba7aba8>,\n",
       " <folium.vector_layers.CircleMarker at 0x7fd27ba7abe0>,\n",
       " <folium.vector_layers.CircleMarker at 0x7fd27ba7ac18>,\n",
       " <folium.vector_layers.CircleMarker at 0x7fd27ba7ac50>,\n",
       " <folium.vector_layers.CircleMarker at 0x7fd27ba7ac88>,\n",
       " <folium.vector_layers.CircleMarker at 0x7fd27ba7acc0>,\n",
       " <folium.vector_layers.CircleMarker at 0x7fd27ba7acf8>,\n",
       " <folium.vector_layers.CircleMarker at 0x7fd27ba7ad30>,\n",
       " <folium.vector_layers.CircleMarker at 0x7fd27ba7ad68>,\n",
       " <folium.vector_layers.CircleMarker at 0x7fd27ba7ada0>,\n",
       " <folium.vector_layers.CircleMarker at 0x7fd27ba7add8>,\n",
       " <folium.vector_layers.CircleMarker at 0x7fd27ba7ae10>,\n",
       " <folium.vector_layers.CircleMarker at 0x7fd27ba7ae48>,\n",
       " <folium.vector_layers.CircleMarker at 0x7fd27ba7ae80>,\n",
       " <folium.vector_layers.CircleMarker at 0x7fd27ba7aeb8>,\n",
       " <folium.vector_layers.CircleMarker at 0x7fd27ba7aef0>,\n",
       " <folium.vector_layers.CircleMarker at 0x7fd27ba7af28>,\n",
       " <folium.vector_layers.CircleMarker at 0x7fd27ba7af60>,\n",
       " <folium.vector_layers.CircleMarker at 0x7fd27ba7af98>,\n",
       " <folium.vector_layers.CircleMarker at 0x7fd27ba7afd0>,\n",
       " <folium.vector_layers.CircleMarker at 0x7fd27ba7a048>,\n",
       " <folium.vector_layers.CircleMarker at 0x7fd27ba8a048>,\n",
       " <folium.vector_layers.CircleMarker at 0x7fd27ba8a0b8>,\n",
       " <folium.vector_layers.CircleMarker at 0x7fd27ba8a0f0>,\n",
       " <folium.vector_layers.CircleMarker at 0x7fd27ba8a128>,\n",
       " <folium.vector_layers.CircleMarker at 0x7fd27ba8a160>,\n",
       " <folium.vector_layers.CircleMarker at 0x7fd27ba8a198>,\n",
       " <folium.vector_layers.CircleMarker at 0x7fd27ba8a1d0>,\n",
       " <folium.vector_layers.CircleMarker at 0x7fd27ba8a208>,\n",
       " <folium.vector_layers.CircleMarker at 0x7fd27ba8a240>,\n",
       " <folium.vector_layers.CircleMarker at 0x7fd27ba8a278>,\n",
       " <folium.vector_layers.CircleMarker at 0x7fd27ba8a2b0>,\n",
       " <folium.vector_layers.CircleMarker at 0x7fd27ba8a2e8>,\n",
       " <folium.vector_layers.CircleMarker at 0x7fd27ba8a320>,\n",
       " <folium.vector_layers.CircleMarker at 0x7fd27ba8a358>,\n",
       " <folium.vector_layers.CircleMarker at 0x7fd27ba8a390>,\n",
       " <folium.vector_layers.CircleMarker at 0x7fd27ba8a3c8>,\n",
       " <folium.vector_layers.CircleMarker at 0x7fd27ba8a400>,\n",
       " <folium.vector_layers.CircleMarker at 0x7fd27ba8a438>,\n",
       " <folium.vector_layers.CircleMarker at 0x7fd27ba8a470>,\n",
       " <folium.vector_layers.CircleMarker at 0x7fd27ba8a4a8>,\n",
       " <folium.vector_layers.CircleMarker at 0x7fd27ba8a4e0>,\n",
       " <folium.vector_layers.CircleMarker at 0x7fd27ba8a518>,\n",
       " <folium.vector_layers.CircleMarker at 0x7fd27ba8a550>,\n",
       " <folium.vector_layers.CircleMarker at 0x7fd27ba8a588>,\n",
       " <folium.vector_layers.CircleMarker at 0x7fd27ba8a5c0>,\n",
       " <folium.vector_layers.CircleMarker at 0x7fd27ba8a5f8>,\n",
       " <folium.vector_layers.CircleMarker at 0x7fd27ba8a630>,\n",
       " <folium.vector_layers.CircleMarker at 0x7fd27ba8a668>,\n",
       " <folium.vector_layers.CircleMarker at 0x7fd27ba8a6a0>,\n",
       " <folium.vector_layers.CircleMarker at 0x7fd27ba8a6d8>,\n",
       " <folium.vector_layers.CircleMarker at 0x7fd27ba8a710>,\n",
       " <folium.vector_layers.CircleMarker at 0x7fd27ba8a748>,\n",
       " <folium.vector_layers.CircleMarker at 0x7fd27ba8a780>,\n",
       " <folium.vector_layers.CircleMarker at 0x7fd27ba8a7b8>,\n",
       " <folium.vector_layers.CircleMarker at 0x7fd27ba8a7f0>,\n",
       " <folium.vector_layers.CircleMarker at 0x7fd27ba8a828>,\n",
       " <folium.vector_layers.CircleMarker at 0x7fd27ba8a860>,\n",
       " <folium.vector_layers.CircleMarker at 0x7fd27ba8a898>,\n",
       " <folium.vector_layers.CircleMarker at 0x7fd27ba8a8d0>,\n",
       " <folium.vector_layers.CircleMarker at 0x7fd27ba8a908>,\n",
       " <folium.vector_layers.CircleMarker at 0x7fd27ba8a940>,\n",
       " <folium.vector_layers.CircleMarker at 0x7fd27ba8a978>,\n",
       " <folium.vector_layers.CircleMarker at 0x7fd27ba8a9b0>,\n",
       " <folium.vector_layers.CircleMarker at 0x7fd27ba8a9e8>,\n",
       " <folium.vector_layers.CircleMarker at 0x7fd27ba8aa20>,\n",
       " <folium.vector_layers.CircleMarker at 0x7fd27ba8aa58>,\n",
       " <folium.vector_layers.CircleMarker at 0x7fd27ba8aa90>,\n",
       " <folium.vector_layers.CircleMarker at 0x7fd27ba8aac8>,\n",
       " <folium.vector_layers.CircleMarker at 0x7fd27ba8ab00>,\n",
       " <folium.vector_layers.CircleMarker at 0x7fd27ba8ab38>,\n",
       " <folium.vector_layers.CircleMarker at 0x7fd27ba8ab70>,\n",
       " <folium.vector_layers.CircleMarker at 0x7fd27ba8aba8>,\n",
       " <folium.vector_layers.CircleMarker at 0x7fd27ba8abe0>,\n",
       " <folium.vector_layers.CircleMarker at 0x7fd27ba8ac18>,\n",
       " <folium.vector_layers.CircleMarker at 0x7fd27ba8ac50>,\n",
       " <folium.vector_layers.CircleMarker at 0x7fd27ba8ac88>,\n",
       " <folium.vector_layers.CircleMarker at 0x7fd27ba8acc0>,\n",
       " <folium.vector_layers.CircleMarker at 0x7fd27ba8acf8>,\n",
       " <folium.vector_layers.CircleMarker at 0x7fd27ba8ad30>,\n",
       " <folium.vector_layers.CircleMarker at 0x7fd27ba8ad68>,\n",
       " <folium.vector_layers.CircleMarker at 0x7fd27ba8ada0>,\n",
       " <folium.vector_layers.CircleMarker at 0x7fd27ba8add8>,\n",
       " <folium.vector_layers.CircleMarker at 0x7fd27ba8ae10>,\n",
       " <folium.vector_layers.CircleMarker at 0x7fd27ba8ae48>,\n",
       " <folium.vector_layers.CircleMarker at 0x7fd27ba8ae80>,\n",
       " <folium.vector_layers.CircleMarker at 0x7fd27ba8aeb8>,\n",
       " <folium.vector_layers.CircleMarker at 0x7fd27ba8aef0>,\n",
       " <folium.vector_layers.CircleMarker at 0x7fd27ba8af28>,\n",
       " <folium.vector_layers.CircleMarker at 0x7fd27ba8af60>,\n",
       " <folium.vector_layers.CircleMarker at 0x7fd27ba8af98>,\n",
       " <folium.vector_layers.CircleMarker at 0x7fd27ba8afd0>,\n",
       " <folium.vector_layers.CircleMarker at 0x7fd27ba8a080>,\n",
       " <folium.vector_layers.CircleMarker at 0x7fd27ba95080>,\n",
       " <folium.vector_layers.CircleMarker at 0x7fd27ba950b8>,\n",
       " <folium.vector_layers.CircleMarker at 0x7fd27ba950f0>,\n",
       " <folium.vector_layers.CircleMarker at 0x7fd27ba95128>,\n",
       " <folium.vector_layers.CircleMarker at 0x7fd27ba95160>,\n",
       " <folium.vector_layers.CircleMarker at 0x7fd27ba95198>,\n",
       " <folium.vector_layers.CircleMarker at 0x7fd27ba951d0>,\n",
       " <folium.vector_layers.CircleMarker at 0x7fd27ba95208>,\n",
       " <folium.vector_layers.CircleMarker at 0x7fd27ba95240>,\n",
       " <folium.vector_layers.CircleMarker at 0x7fd27ba95278>,\n",
       " <folium.vector_layers.CircleMarker at 0x7fd27ba952b0>,\n",
       " <folium.vector_layers.CircleMarker at 0x7fd27ba952e8>,\n",
       " <folium.vector_layers.CircleMarker at 0x7fd27ba95320>,\n",
       " <folium.vector_layers.CircleMarker at 0x7fd27ba95358>,\n",
       " <folium.vector_layers.CircleMarker at 0x7fd27ba95390>,\n",
       " <folium.vector_layers.CircleMarker at 0x7fd27ba953c8>,\n",
       " <folium.vector_layers.CircleMarker at 0x7fd27ba95400>,\n",
       " <folium.vector_layers.CircleMarker at 0x7fd27ba95438>,\n",
       " <folium.vector_layers.CircleMarker at 0x7fd27ba95470>,\n",
       " <folium.vector_layers.CircleMarker at 0x7fd27ba954a8>,\n",
       " <folium.vector_layers.CircleMarker at 0x7fd27ba954e0>,\n",
       " <folium.vector_layers.CircleMarker at 0x7fd27ba95518>,\n",
       " <folium.vector_layers.CircleMarker at 0x7fd27ba95550>,\n",
       " <folium.vector_layers.CircleMarker at 0x7fd27ba95588>,\n",
       " <folium.vector_layers.CircleMarker at 0x7fd27ba955c0>,\n",
       " <folium.vector_layers.CircleMarker at 0x7fd27ba955f8>,\n",
       " <folium.vector_layers.CircleMarker at 0x7fd27ba95630>,\n",
       " <folium.vector_layers.CircleMarker at 0x7fd27ba95668>,\n",
       " <folium.vector_layers.CircleMarker at 0x7fd27ba956a0>,\n",
       " <folium.vector_layers.CircleMarker at 0x7fd27ba956d8>,\n",
       " <folium.vector_layers.CircleMarker at 0x7fd27ba95710>,\n",
       " <folium.vector_layers.CircleMarker at 0x7fd27ba95748>,\n",
       " <folium.vector_layers.CircleMarker at 0x7fd27ba95780>,\n",
       " <folium.vector_layers.CircleMarker at 0x7fd27ba957b8>,\n",
       " <folium.vector_layers.CircleMarker at 0x7fd27ba957f0>,\n",
       " <folium.vector_layers.CircleMarker at 0x7fd27ba95828>,\n",
       " <folium.vector_layers.CircleMarker at 0x7fd27ba95860>,\n",
       " <folium.vector_layers.CircleMarker at 0x7fd27ba95898>,\n",
       " <folium.vector_layers.CircleMarker at 0x7fd27ba958d0>,\n",
       " <folium.vector_layers.CircleMarker at 0x7fd27ba95908>,\n",
       " <folium.vector_layers.CircleMarker at 0x7fd27ba95940>,\n",
       " <folium.vector_layers.CircleMarker at 0x7fd27ba95978>,\n",
       " <folium.vector_layers.CircleMarker at 0x7fd27ba959b0>,\n",
       " <folium.vector_layers.CircleMarker at 0x7fd27ba959e8>,\n",
       " <folium.vector_layers.CircleMarker at 0x7fd27ba95a20>,\n",
       " <folium.vector_layers.CircleMarker at 0x7fd27ba95a58>,\n",
       " <folium.vector_layers.CircleMarker at 0x7fd27ba95a90>,\n",
       " <folium.vector_layers.CircleMarker at 0x7fd27ba95ac8>,\n",
       " <folium.vector_layers.CircleMarker at 0x7fd27ba95b00>,\n",
       " <folium.vector_layers.CircleMarker at 0x7fd27ba95b38>,\n",
       " <folium.vector_layers.CircleMarker at 0x7fd27ba95b70>,\n",
       " <folium.vector_layers.CircleMarker at 0x7fd27ba95ba8>,\n",
       " <folium.vector_layers.CircleMarker at 0x7fd27ba95be0>,\n",
       " <folium.vector_layers.CircleMarker at 0x7fd27ba95c18>,\n",
       " <folium.vector_layers.CircleMarker at 0x7fd27ba95c50>,\n",
       " <folium.vector_layers.CircleMarker at 0x7fd27ba95c88>,\n",
       " <folium.vector_layers.CircleMarker at 0x7fd27ba95cc0>,\n",
       " <folium.vector_layers.CircleMarker at 0x7fd27ba95cf8>,\n",
       " <folium.vector_layers.CircleMarker at 0x7fd27ba95d30>,\n",
       " <folium.vector_layers.CircleMarker at 0x7fd27ba95d68>,\n",
       " <folium.vector_layers.CircleMarker at 0x7fd27ba95da0>,\n",
       " <folium.vector_layers.CircleMarker at 0x7fd27ba95dd8>,\n",
       " <folium.vector_layers.CircleMarker at 0x7fd27ba95e10>,\n",
       " <folium.vector_layers.CircleMarker at 0x7fd27ba95e48>,\n",
       " <folium.vector_layers.CircleMarker at 0x7fd27ba95e80>,\n",
       " <folium.vector_layers.CircleMarker at 0x7fd27ba95eb8>,\n",
       " <folium.vector_layers.CircleMarker at 0x7fd27ba95ef0>,\n",
       " <folium.vector_layers.CircleMarker at 0x7fd27ba95f28>,\n",
       " <folium.vector_layers.CircleMarker at 0x7fd27ba95f60>,\n",
       " <folium.vector_layers.CircleMarker at 0x7fd27ba95f98>,\n",
       " <folium.vector_layers.CircleMarker at 0x7fd27ba95fd0>,\n",
       " <folium.vector_layers.CircleMarker at 0x7fd27ba95048>,\n",
       " <folium.vector_layers.CircleMarker at 0x7fd27ba25080>,\n",
       " <folium.vector_layers.CircleMarker at 0x7fd27ba250b8>,\n",
       " <folium.vector_layers.CircleMarker at 0x7fd27ba250f0>,\n",
       " <folium.vector_layers.CircleMarker at 0x7fd27ba25128>,\n",
       " <folium.vector_layers.CircleMarker at 0x7fd27ba25160>,\n",
       " <folium.vector_layers.CircleMarker at 0x7fd27ba25198>,\n",
       " <folium.vector_layers.CircleMarker at 0x7fd27ba251d0>,\n",
       " <folium.vector_layers.CircleMarker at 0x7fd27ba25208>,\n",
       " <folium.vector_layers.CircleMarker at 0x7fd27ba25240>,\n",
       " <folium.vector_layers.CircleMarker at 0x7fd27ba25278>,\n",
       " <folium.vector_layers.CircleMarker at 0x7fd27ba252b0>,\n",
       " <folium.vector_layers.CircleMarker at 0x7fd27ba252e8>,\n",
       " <folium.vector_layers.CircleMarker at 0x7fd27ba25320>,\n",
       " <folium.vector_layers.CircleMarker at 0x7fd27ba25358>,\n",
       " <folium.vector_layers.CircleMarker at 0x7fd27ba25390>,\n",
       " <folium.vector_layers.CircleMarker at 0x7fd27ba253c8>,\n",
       " <folium.vector_layers.CircleMarker at 0x7fd27ba25400>,\n",
       " <folium.vector_layers.CircleMarker at 0x7fd27ba25438>,\n",
       " <folium.vector_layers.CircleMarker at 0x7fd27ba25470>,\n",
       " <folium.vector_layers.CircleMarker at 0x7fd27ba254a8>,\n",
       " <folium.vector_layers.CircleMarker at 0x7fd27ba254e0>,\n",
       " <folium.vector_layers.CircleMarker at 0x7fd27ba25518>,\n",
       " <folium.vector_layers.CircleMarker at 0x7fd27ba25550>,\n",
       " <folium.vector_layers.CircleMarker at 0x7fd27ba25588>,\n",
       " <folium.vector_layers.CircleMarker at 0x7fd27ba255c0>,\n",
       " <folium.vector_layers.CircleMarker at 0x7fd27ba255f8>,\n",
       " <folium.vector_layers.CircleMarker at 0x7fd27ba25630>,\n",
       " <folium.vector_layers.CircleMarker at 0x7fd27ba25668>,\n",
       " <folium.vector_layers.CircleMarker at 0x7fd27ba256a0>,\n",
       " <folium.vector_layers.CircleMarker at 0x7fd27ba256d8>,\n",
       " <folium.vector_layers.CircleMarker at 0x7fd27ba25710>,\n",
       " <folium.vector_layers.CircleMarker at 0x7fd27ba25748>,\n",
       " <folium.vector_layers.CircleMarker at 0x7fd27ba25780>,\n",
       " <folium.vector_layers.CircleMarker at 0x7fd27ba257b8>,\n",
       " <folium.vector_layers.CircleMarker at 0x7fd27ba257f0>,\n",
       " <folium.vector_layers.CircleMarker at 0x7fd27ba25828>,\n",
       " <folium.vector_layers.CircleMarker at 0x7fd27ba25860>,\n",
       " <folium.vector_layers.CircleMarker at 0x7fd27ba25898>,\n",
       " <folium.vector_layers.CircleMarker at 0x7fd27ba258d0>,\n",
       " <folium.vector_layers.CircleMarker at 0x7fd27ba25908>,\n",
       " <folium.vector_layers.CircleMarker at 0x7fd27ba25940>,\n",
       " <folium.vector_layers.CircleMarker at 0x7fd27ba25978>,\n",
       " <folium.vector_layers.CircleMarker at 0x7fd27ba259b0>,\n",
       " <folium.vector_layers.CircleMarker at 0x7fd27ba259e8>,\n",
       " <folium.vector_layers.CircleMarker at 0x7fd27ba25a20>,\n",
       " <folium.vector_layers.CircleMarker at 0x7fd27ba25a58>,\n",
       " <folium.vector_layers.CircleMarker at 0x7fd27ba25a90>,\n",
       " <folium.vector_layers.CircleMarker at 0x7fd27ba25ac8>,\n",
       " <folium.vector_layers.CircleMarker at 0x7fd27ba25b00>,\n",
       " <folium.vector_layers.CircleMarker at 0x7fd27ba25b38>,\n",
       " <folium.vector_layers.CircleMarker at 0x7fd27ba25b70>,\n",
       " <folium.vector_layers.CircleMarker at 0x7fd27ba25ba8>,\n",
       " <folium.vector_layers.CircleMarker at 0x7fd27ba25be0>,\n",
       " <folium.vector_layers.CircleMarker at 0x7fd27ba25c18>,\n",
       " <folium.vector_layers.CircleMarker at 0x7fd27ba25c50>,\n",
       " <folium.vector_layers.CircleMarker at 0x7fd27ba25c88>,\n",
       " <folium.vector_layers.CircleMarker at 0x7fd27ba25cc0>,\n",
       " <folium.vector_layers.CircleMarker at 0x7fd27ba25cf8>,\n",
       " <folium.vector_layers.CircleMarker at 0x7fd27ba25d30>,\n",
       " <folium.vector_layers.CircleMarker at 0x7fd27ba25d68>,\n",
       " <folium.vector_layers.CircleMarker at 0x7fd27ba25da0>,\n",
       " <folium.vector_layers.CircleMarker at 0x7fd27ba25dd8>,\n",
       " <folium.vector_layers.CircleMarker at 0x7fd27ba25e10>,\n",
       " <folium.vector_layers.CircleMarker at 0x7fd27ba25e48>,\n",
       " <folium.vector_layers.CircleMarker at 0x7fd27ba25e80>,\n",
       " <folium.vector_layers.CircleMarker at 0x7fd27ba25eb8>,\n",
       " <folium.vector_layers.CircleMarker at 0x7fd27ba25ef0>,\n",
       " <folium.vector_layers.CircleMarker at 0x7fd27ba25f28>,\n",
       " <folium.vector_layers.CircleMarker at 0x7fd27ba25f60>,\n",
       " <folium.vector_layers.CircleMarker at 0x7fd27ba25f98>,\n",
       " <folium.vector_layers.CircleMarker at 0x7fd27ba25fd0>,\n",
       " <folium.vector_layers.CircleMarker at 0x7fd27ba25048>,\n",
       " <folium.vector_layers.CircleMarker at 0x7fd27ba31080>,\n",
       " <folium.vector_layers.CircleMarker at 0x7fd27ba310b8>,\n",
       " <folium.vector_layers.CircleMarker at 0x7fd27ba310f0>,\n",
       " <folium.vector_layers.CircleMarker at 0x7fd27ba31128>,\n",
       " <folium.vector_layers.CircleMarker at 0x7fd27ba31160>,\n",
       " <folium.vector_layers.CircleMarker at 0x7fd27ba31198>,\n",
       " <folium.vector_layers.CircleMarker at 0x7fd27ba311d0>,\n",
       " <folium.vector_layers.CircleMarker at 0x7fd27ba31208>,\n",
       " <folium.vector_layers.CircleMarker at 0x7fd27ba31240>,\n",
       " <folium.vector_layers.CircleMarker at 0x7fd27ba31278>,\n",
       " <folium.vector_layers.CircleMarker at 0x7fd27ba312b0>,\n",
       " <folium.vector_layers.CircleMarker at 0x7fd27ba312e8>,\n",
       " <folium.vector_layers.CircleMarker at 0x7fd27ba31320>,\n",
       " <folium.vector_layers.CircleMarker at 0x7fd27ba31358>,\n",
       " <folium.vector_layers.CircleMarker at 0x7fd27ba31390>,\n",
       " <folium.vector_layers.CircleMarker at 0x7fd27ba313c8>,\n",
       " <folium.vector_layers.CircleMarker at 0x7fd27ba31400>,\n",
       " <folium.vector_layers.CircleMarker at 0x7fd27ba31438>,\n",
       " <folium.vector_layers.CircleMarker at 0x7fd27ba31470>,\n",
       " <folium.vector_layers.CircleMarker at 0x7fd27ba314a8>,\n",
       " <folium.vector_layers.CircleMarker at 0x7fd27ba314e0>,\n",
       " <folium.vector_layers.CircleMarker at 0x7fd27ba31518>,\n",
       " <folium.vector_layers.CircleMarker at 0x7fd27ba31550>,\n",
       " <folium.vector_layers.CircleMarker at 0x7fd27ba31588>,\n",
       " <folium.vector_layers.CircleMarker at 0x7fd27ba315c0>,\n",
       " <folium.vector_layers.CircleMarker at 0x7fd27ba315f8>,\n",
       " <folium.vector_layers.CircleMarker at 0x7fd27ba31630>,\n",
       " <folium.vector_layers.CircleMarker at 0x7fd27ba31668>,\n",
       " <folium.vector_layers.CircleMarker at 0x7fd27ba316a0>,\n",
       " <folium.vector_layers.CircleMarker at 0x7fd27ba316d8>,\n",
       " <folium.vector_layers.CircleMarker at 0x7fd27ba31710>,\n",
       " <folium.vector_layers.CircleMarker at 0x7fd27ba31748>,\n",
       " <folium.vector_layers.CircleMarker at 0x7fd27ba31780>,\n",
       " <folium.vector_layers.CircleMarker at 0x7fd27ba317b8>,\n",
       " <folium.vector_layers.CircleMarker at 0x7fd27ba317f0>,\n",
       " <folium.vector_layers.CircleMarker at 0x7fd27ba31828>,\n",
       " <folium.vector_layers.CircleMarker at 0x7fd27ba31860>,\n",
       " <folium.vector_layers.CircleMarker at 0x7fd27ba31898>,\n",
       " <folium.vector_layers.CircleMarker at 0x7fd27ba318d0>,\n",
       " <folium.vector_layers.CircleMarker at 0x7fd27ba31908>,\n",
       " <folium.vector_layers.CircleMarker at 0x7fd27ba31940>,\n",
       " <folium.vector_layers.CircleMarker at 0x7fd27ba31978>,\n",
       " <folium.vector_layers.CircleMarker at 0x7fd27ba319b0>,\n",
       " <folium.vector_layers.CircleMarker at 0x7fd27ba319e8>,\n",
       " <folium.vector_layers.CircleMarker at 0x7fd27ba31a20>,\n",
       " <folium.vector_layers.CircleMarker at 0x7fd27ba31a58>,\n",
       " <folium.vector_layers.CircleMarker at 0x7fd27ba31a90>,\n",
       " <folium.vector_layers.CircleMarker at 0x7fd27ba31ac8>,\n",
       " <folium.vector_layers.CircleMarker at 0x7fd27ba31b00>,\n",
       " <folium.vector_layers.CircleMarker at 0x7fd27ba31b38>,\n",
       " <folium.vector_layers.CircleMarker at 0x7fd27ba31b70>,\n",
       " <folium.vector_layers.CircleMarker at 0x7fd27ba31ba8>,\n",
       " <folium.vector_layers.CircleMarker at 0x7fd27ba31be0>,\n",
       " <folium.vector_layers.CircleMarker at 0x7fd27ba31c18>,\n",
       " <folium.vector_layers.CircleMarker at 0x7fd27ba31c50>,\n",
       " <folium.vector_layers.CircleMarker at 0x7fd27ba31c88>,\n",
       " <folium.vector_layers.CircleMarker at 0x7fd27ba31cc0>,\n",
       " <folium.vector_layers.CircleMarker at 0x7fd27ba31cf8>,\n",
       " <folium.vector_layers.CircleMarker at 0x7fd27ba31d30>,\n",
       " <folium.vector_layers.CircleMarker at 0x7fd27ba31d68>,\n",
       " <folium.vector_layers.CircleMarker at 0x7fd27ba31da0>,\n",
       " <folium.vector_layers.CircleMarker at 0x7fd27ba31dd8>,\n",
       " <folium.vector_layers.CircleMarker at 0x7fd27ba31e10>,\n",
       " <folium.vector_layers.CircleMarker at 0x7fd27ba31e48>,\n",
       " <folium.vector_layers.CircleMarker at 0x7fd27ba31e80>,\n",
       " <folium.vector_layers.CircleMarker at 0x7fd27ba31eb8>,\n",
       " <folium.vector_layers.CircleMarker at 0x7fd27ba31ef0>,\n",
       " <folium.vector_layers.CircleMarker at 0x7fd27ba31f28>,\n",
       " <folium.vector_layers.CircleMarker at 0x7fd27ba31f60>,\n",
       " <folium.vector_layers.CircleMarker at 0x7fd27ba31f98>,\n",
       " <folium.vector_layers.CircleMarker at 0x7fd27ba31fd0>,\n",
       " <folium.vector_layers.CircleMarker at 0x7fd27ba31048>,\n",
       " <folium.vector_layers.CircleMarker at 0x7fd27ba40080>,\n",
       " <folium.vector_layers.CircleMarker at 0x7fd27ba400b8>,\n",
       " <folium.vector_layers.CircleMarker at 0x7fd27ba400f0>,\n",
       " <folium.vector_layers.CircleMarker at 0x7fd27ba40128>,\n",
       " <folium.vector_layers.CircleMarker at 0x7fd27ba40160>,\n",
       " <folium.vector_layers.CircleMarker at 0x7fd27ba40198>,\n",
       " <folium.vector_layers.CircleMarker at 0x7fd27ba401d0>,\n",
       " <folium.vector_layers.CircleMarker at 0x7fd27ba40208>,\n",
       " <folium.vector_layers.CircleMarker at 0x7fd27ba40240>,\n",
       " <folium.vector_layers.CircleMarker at 0x7fd27ba40278>,\n",
       " <folium.vector_layers.CircleMarker at 0x7fd27ba402b0>,\n",
       " <folium.vector_layers.CircleMarker at 0x7fd27ba402e8>,\n",
       " <folium.vector_layers.CircleMarker at 0x7fd27ba40320>,\n",
       " <folium.vector_layers.CircleMarker at 0x7fd27ba40358>,\n",
       " <folium.vector_layers.CircleMarker at 0x7fd27ba40390>,\n",
       " <folium.vector_layers.CircleMarker at 0x7fd27ba403c8>,\n",
       " <folium.vector_layers.CircleMarker at 0x7fd27ba40400>,\n",
       " <folium.vector_layers.CircleMarker at 0x7fd27ba40438>,\n",
       " <folium.vector_layers.CircleMarker at 0x7fd27ba40470>,\n",
       " <folium.vector_layers.CircleMarker at 0x7fd27ba404a8>,\n",
       " <folium.vector_layers.CircleMarker at 0x7fd27ba404e0>,\n",
       " <folium.vector_layers.CircleMarker at 0x7fd27ba40518>,\n",
       " <folium.vector_layers.CircleMarker at 0x7fd27ba40550>,\n",
       " <folium.vector_layers.CircleMarker at 0x7fd27ba40588>,\n",
       " <folium.vector_layers.CircleMarker at 0x7fd27ba405c0>,\n",
       " <folium.vector_layers.CircleMarker at 0x7fd27ba405f8>,\n",
       " <folium.vector_layers.CircleMarker at 0x7fd27ba40630>,\n",
       " <folium.vector_layers.CircleMarker at 0x7fd27ba40668>,\n",
       " <folium.vector_layers.CircleMarker at 0x7fd27ba406a0>,\n",
       " <folium.vector_layers.CircleMarker at 0x7fd27ba406d8>,\n",
       " <folium.vector_layers.CircleMarker at 0x7fd27ba40710>,\n",
       " <folium.vector_layers.CircleMarker at 0x7fd27ba40748>,\n",
       " <folium.vector_layers.CircleMarker at 0x7fd27ba40780>,\n",
       " <folium.vector_layers.CircleMarker at 0x7fd27ba407b8>,\n",
       " <folium.vector_layers.CircleMarker at 0x7fd27ba407f0>,\n",
       " <folium.vector_layers.CircleMarker at 0x7fd27ba40828>,\n",
       " <folium.vector_layers.CircleMarker at 0x7fd27ba40860>,\n",
       " <folium.vector_layers.CircleMarker at 0x7fd27ba40898>,\n",
       " <folium.vector_layers.CircleMarker at 0x7fd27ba408d0>,\n",
       " <folium.vector_layers.CircleMarker at 0x7fd27ba40908>,\n",
       " <folium.vector_layers.CircleMarker at 0x7fd27ba40940>,\n",
       " <folium.vector_layers.CircleMarker at 0x7fd27ba40978>,\n",
       " <folium.vector_layers.CircleMarker at 0x7fd27ba409b0>,\n",
       " <folium.vector_layers.CircleMarker at 0x7fd27ba409e8>,\n",
       " <folium.vector_layers.CircleMarker at 0x7fd27ba40a20>,\n",
       " <folium.vector_layers.CircleMarker at 0x7fd27ba40a58>,\n",
       " <folium.vector_layers.CircleMarker at 0x7fd27ba40a90>,\n",
       " <folium.vector_layers.CircleMarker at 0x7fd27ba40ac8>,\n",
       " <folium.vector_layers.CircleMarker at 0x7fd27ba40b00>,\n",
       " <folium.vector_layers.CircleMarker at 0x7fd27ba40b38>,\n",
       " <folium.vector_layers.CircleMarker at 0x7fd27ba40b70>,\n",
       " <folium.vector_layers.CircleMarker at 0x7fd27ba40ba8>,\n",
       " <folium.vector_layers.CircleMarker at 0x7fd27ba40be0>,\n",
       " <folium.vector_layers.CircleMarker at 0x7fd27ba40c18>,\n",
       " <folium.vector_layers.CircleMarker at 0x7fd27ba40c50>,\n",
       " <folium.vector_layers.CircleMarker at 0x7fd27ba40c88>,\n",
       " <folium.vector_layers.CircleMarker at 0x7fd27ba40cc0>,\n",
       " <folium.vector_layers.CircleMarker at 0x7fd27ba40cf8>,\n",
       " <folium.vector_layers.CircleMarker at 0x7fd27ba40d30>,\n",
       " <folium.vector_layers.CircleMarker at 0x7fd27ba40d68>,\n",
       " <folium.vector_layers.CircleMarker at 0x7fd27ba40da0>,\n",
       " <folium.vector_layers.CircleMarker at 0x7fd27ba40dd8>,\n",
       " <folium.vector_layers.CircleMarker at 0x7fd27ba40e10>,\n",
       " <folium.vector_layers.CircleMarker at 0x7fd27ba40e48>,\n",
       " <folium.vector_layers.CircleMarker at 0x7fd27ba40e80>,\n",
       " <folium.vector_layers.CircleMarker at 0x7fd27ba40eb8>,\n",
       " <folium.vector_layers.CircleMarker at 0x7fd27ba40ef0>,\n",
       " <folium.vector_layers.CircleMarker at 0x7fd27ba40f28>,\n",
       " <folium.vector_layers.CircleMarker at 0x7fd27ba40f60>,\n",
       " <folium.vector_layers.CircleMarker at 0x7fd27ba40f98>,\n",
       " <folium.vector_layers.CircleMarker at 0x7fd27ba40fd0>,\n",
       " <folium.vector_layers.CircleMarker at 0x7fd27ba40048>,\n",
       " <folium.vector_layers.CircleMarker at 0x7fd27ba4c080>,\n",
       " <folium.vector_layers.CircleMarker at 0x7fd27ba4c0b8>,\n",
       " <folium.vector_layers.CircleMarker at 0x7fd27ba4c0f0>,\n",
       " <folium.vector_layers.CircleMarker at 0x7fd27ba4c128>,\n",
       " <folium.vector_layers.CircleMarker at 0x7fd27ba4c160>,\n",
       " <folium.vector_layers.CircleMarker at 0x7fd27ba4c198>,\n",
       " <folium.vector_layers.CircleMarker at 0x7fd27ba4c1d0>,\n",
       " <folium.vector_layers.CircleMarker at 0x7fd27ba4c208>,\n",
       " <folium.vector_layers.CircleMarker at 0x7fd27ba4c240>,\n",
       " <folium.vector_layers.CircleMarker at 0x7fd27ba4c278>,\n",
       " <folium.vector_layers.CircleMarker at 0x7fd27ba4c2b0>,\n",
       " <folium.vector_layers.CircleMarker at 0x7fd27ba4c2e8>,\n",
       " <folium.vector_layers.CircleMarker at 0x7fd27ba4c320>,\n",
       " <folium.vector_layers.CircleMarker at 0x7fd27ba4c358>,\n",
       " <folium.vector_layers.CircleMarker at 0x7fd27ba4c390>,\n",
       " <folium.vector_layers.CircleMarker at 0x7fd27ba4c3c8>,\n",
       " <folium.vector_layers.CircleMarker at 0x7fd27ba4c400>,\n",
       " <folium.vector_layers.CircleMarker at 0x7fd27ba4c438>,\n",
       " <folium.vector_layers.CircleMarker at 0x7fd27ba4c470>,\n",
       " <folium.vector_layers.CircleMarker at 0x7fd27ba4c4a8>,\n",
       " <folium.vector_layers.CircleMarker at 0x7fd27ba4c4e0>,\n",
       " <folium.vector_layers.CircleMarker at 0x7fd27ba4c518>,\n",
       " <folium.vector_layers.CircleMarker at 0x7fd27ba4c550>,\n",
       " <folium.vector_layers.CircleMarker at 0x7fd27ba4c588>,\n",
       " <folium.vector_layers.CircleMarker at 0x7fd27ba4c5c0>,\n",
       " <folium.vector_layers.CircleMarker at 0x7fd27ba4c5f8>,\n",
       " <folium.vector_layers.CircleMarker at 0x7fd27ba4c630>,\n",
       " <folium.vector_layers.CircleMarker at 0x7fd27ba4c668>,\n",
       " <folium.vector_layers.CircleMarker at 0x7fd27ba4c6a0>,\n",
       " <folium.vector_layers.CircleMarker at 0x7fd27ba4c6d8>,\n",
       " <folium.vector_layers.CircleMarker at 0x7fd27ba4c710>,\n",
       " <folium.vector_layers.CircleMarker at 0x7fd27ba4c748>,\n",
       " <folium.vector_layers.CircleMarker at 0x7fd27ba4c780>,\n",
       " <folium.vector_layers.CircleMarker at 0x7fd27ba4c7b8>,\n",
       " <folium.vector_layers.CircleMarker at 0x7fd27ba4c7f0>,\n",
       " <folium.vector_layers.CircleMarker at 0x7fd27ba4c828>,\n",
       " <folium.vector_layers.CircleMarker at 0x7fd27ba4c860>,\n",
       " <folium.vector_layers.CircleMarker at 0x7fd27ba4c898>,\n",
       " <folium.vector_layers.CircleMarker at 0x7fd27ba4c8d0>,\n",
       " <folium.vector_layers.CircleMarker at 0x7fd27ba4c908>,\n",
       " <folium.vector_layers.CircleMarker at 0x7fd27ba4c940>,\n",
       " <folium.vector_layers.CircleMarker at 0x7fd27ba4c978>,\n",
       " <folium.vector_layers.CircleMarker at 0x7fd27ba4c9b0>,\n",
       " <folium.vector_layers.CircleMarker at 0x7fd27ba4c9e8>,\n",
       " <folium.vector_layers.CircleMarker at 0x7fd27ba4ca20>,\n",
       " <folium.vector_layers.CircleMarker at 0x7fd27ba4ca58>,\n",
       " <folium.vector_layers.CircleMarker at 0x7fd27ba4ca90>,\n",
       " <folium.vector_layers.CircleMarker at 0x7fd27ba4cac8>,\n",
       " <folium.vector_layers.CircleMarker at 0x7fd27ba4cb00>,\n",
       " <folium.vector_layers.CircleMarker at 0x7fd27ba4cb38>,\n",
       " <folium.vector_layers.CircleMarker at 0x7fd27ba4cb70>,\n",
       " <folium.vector_layers.CircleMarker at 0x7fd27ba4cba8>,\n",
       " <folium.vector_layers.CircleMarker at 0x7fd27ba4cbe0>,\n",
       " <folium.vector_layers.CircleMarker at 0x7fd27ba4cc18>,\n",
       " <folium.vector_layers.CircleMarker at 0x7fd27ba4cc50>,\n",
       " <folium.vector_layers.CircleMarker at 0x7fd27ba4cc88>,\n",
       " <folium.vector_layers.CircleMarker at 0x7fd27ba4ccc0>,\n",
       " <folium.vector_layers.CircleMarker at 0x7fd27ba4ccf8>,\n",
       " <folium.vector_layers.CircleMarker at 0x7fd27ba4cd30>,\n",
       " <folium.vector_layers.CircleMarker at 0x7fd27ba4cd68>,\n",
       " <folium.vector_layers.CircleMarker at 0x7fd27ba4cda0>,\n",
       " <folium.vector_layers.CircleMarker at 0x7fd27ba4cdd8>,\n",
       " <folium.vector_layers.CircleMarker at 0x7fd27ba4ce10>,\n",
       " <folium.vector_layers.CircleMarker at 0x7fd27ba4ce48>,\n",
       " <folium.vector_layers.CircleMarker at 0x7fd27ba4ce80>,\n",
       " <folium.vector_layers.CircleMarker at 0x7fd27ba4ceb8>,\n",
       " <folium.vector_layers.CircleMarker at 0x7fd27ba4cef0>,\n",
       " <folium.vector_layers.CircleMarker at 0x7fd27ba4cf28>,\n",
       " <folium.vector_layers.CircleMarker at 0x7fd27ba4cf60>,\n",
       " <folium.vector_layers.CircleMarker at 0x7fd27ba4cf98>,\n",
       " <folium.vector_layers.CircleMarker at 0x7fd27ba4cfd0>,\n",
       " <folium.vector_layers.CircleMarker at 0x7fd27ba4c048>,\n",
       " <folium.vector_layers.CircleMarker at 0x7fd27b9db080>,\n",
       " <folium.vector_layers.CircleMarker at 0x7fd27b9db0b8>,\n",
       " <folium.vector_layers.CircleMarker at 0x7fd27b9db0f0>,\n",
       " <folium.vector_layers.CircleMarker at 0x7fd27b9db128>,\n",
       " <folium.vector_layers.CircleMarker at 0x7fd27b9db160>,\n",
       " <folium.vector_layers.CircleMarker at 0x7fd27b9db198>,\n",
       " <folium.vector_layers.CircleMarker at 0x7fd27b9db1d0>,\n",
       " <folium.vector_layers.CircleMarker at 0x7fd27b9db208>,\n",
       " <folium.vector_layers.CircleMarker at 0x7fd27b9db240>,\n",
       " <folium.vector_layers.CircleMarker at 0x7fd27b9db278>,\n",
       " <folium.vector_layers.CircleMarker at 0x7fd27b9db2b0>,\n",
       " <folium.vector_layers.CircleMarker at 0x7fd27b9db2e8>,\n",
       " <folium.vector_layers.CircleMarker at 0x7fd27b9db320>,\n",
       " <folium.vector_layers.CircleMarker at 0x7fd27b9db358>,\n",
       " <folium.vector_layers.CircleMarker at 0x7fd27b9db390>,\n",
       " <folium.vector_layers.CircleMarker at 0x7fd27b9db3c8>,\n",
       " <folium.vector_layers.CircleMarker at 0x7fd27b9db400>,\n",
       " <folium.vector_layers.CircleMarker at 0x7fd27b9db438>,\n",
       " <folium.vector_layers.CircleMarker at 0x7fd27b9db470>,\n",
       " <folium.vector_layers.CircleMarker at 0x7fd27b9db4a8>,\n",
       " <folium.vector_layers.CircleMarker at 0x7fd27b9db4e0>,\n",
       " <folium.vector_layers.CircleMarker at 0x7fd27b9db518>,\n",
       " <folium.vector_layers.CircleMarker at 0x7fd27b9db550>,\n",
       " <folium.vector_layers.CircleMarker at 0x7fd27b9db588>,\n",
       " <folium.vector_layers.CircleMarker at 0x7fd27b9db5c0>,\n",
       " <folium.vector_layers.CircleMarker at 0x7fd27b9db5f8>,\n",
       " <folium.vector_layers.CircleMarker at 0x7fd27b9db630>,\n",
       " <folium.vector_layers.CircleMarker at 0x7fd27b9db668>,\n",
       " <folium.vector_layers.CircleMarker at 0x7fd27b9db6a0>,\n",
       " <folium.vector_layers.CircleMarker at 0x7fd27b9db6d8>,\n",
       " <folium.vector_layers.CircleMarker at 0x7fd27b9db710>,\n",
       " <folium.vector_layers.CircleMarker at 0x7fd27b9db748>,\n",
       " <folium.vector_layers.CircleMarker at 0x7fd27b9db780>,\n",
       " <folium.vector_layers.CircleMarker at 0x7fd27b9db7b8>,\n",
       " <folium.vector_layers.CircleMarker at 0x7fd27b9db7f0>,\n",
       " <folium.vector_layers.CircleMarker at 0x7fd27b9db828>,\n",
       " <folium.vector_layers.CircleMarker at 0x7fd27b9db860>,\n",
       " <folium.vector_layers.CircleMarker at 0x7fd27b9db898>,\n",
       " <folium.vector_layers.CircleMarker at 0x7fd27b9db8d0>,\n",
       " <folium.vector_layers.CircleMarker at 0x7fd27b9db908>,\n",
       " <folium.vector_layers.CircleMarker at 0x7fd27b9db940>,\n",
       " <folium.vector_layers.CircleMarker at 0x7fd27b9db978>,\n",
       " <folium.vector_layers.CircleMarker at 0x7fd27b9db9b0>,\n",
       " <folium.vector_layers.CircleMarker at 0x7fd27b9db9e8>,\n",
       " <folium.vector_layers.CircleMarker at 0x7fd27b9dba20>,\n",
       " <folium.vector_layers.CircleMarker at 0x7fd27b9dba58>,\n",
       " <folium.vector_layers.CircleMarker at 0x7fd27b9dba90>,\n",
       " <folium.vector_layers.CircleMarker at 0x7fd27b9dbac8>,\n",
       " <folium.vector_layers.CircleMarker at 0x7fd27b9dbb00>,\n",
       " <folium.vector_layers.CircleMarker at 0x7fd27b9dbb38>,\n",
       " <folium.vector_layers.CircleMarker at 0x7fd27b9dbb70>,\n",
       " <folium.vector_layers.CircleMarker at 0x7fd27b9dbba8>,\n",
       " <folium.vector_layers.CircleMarker at 0x7fd27b9dbbe0>,\n",
       " <folium.vector_layers.CircleMarker at 0x7fd27b9dbc18>,\n",
       " <folium.vector_layers.CircleMarker at 0x7fd27b9dbc50>,\n",
       " <folium.vector_layers.CircleMarker at 0x7fd27b9dbc88>,\n",
       " <folium.vector_layers.CircleMarker at 0x7fd27b9dbcc0>,\n",
       " <folium.vector_layers.CircleMarker at 0x7fd27b9dbcf8>,\n",
       " <folium.vector_layers.CircleMarker at 0x7fd27b9dbd30>,\n",
       " <folium.vector_layers.CircleMarker at 0x7fd27b9dbd68>,\n",
       " <folium.vector_layers.CircleMarker at 0x7fd27b9dbda0>,\n",
       " <folium.vector_layers.CircleMarker at 0x7fd27b9dbdd8>,\n",
       " <folium.vector_layers.CircleMarker at 0x7fd27b9dbe10>,\n",
       " <folium.vector_layers.CircleMarker at 0x7fd27b9dbe48>,\n",
       " <folium.vector_layers.CircleMarker at 0x7fd27b9dbe80>,\n",
       " <folium.vector_layers.CircleMarker at 0x7fd27b9dbeb8>,\n",
       " <folium.vector_layers.CircleMarker at 0x7fd27b9dbef0>,\n",
       " <folium.vector_layers.CircleMarker at 0x7fd27b9dbf28>,\n",
       " <folium.vector_layers.CircleMarker at 0x7fd27b9dbf60>,\n",
       " <folium.vector_layers.CircleMarker at 0x7fd27b9dbf98>,\n",
       " <folium.vector_layers.CircleMarker at 0x7fd27b9dbfd0>,\n",
       " <folium.vector_layers.CircleMarker at 0x7fd27b9db048>,\n",
       " <folium.vector_layers.CircleMarker at 0x7fd27b9e9048>,\n",
       " <folium.vector_layers.CircleMarker at 0x7fd27b9e90b8>,\n",
       " <folium.vector_layers.CircleMarker at 0x7fd27b9e90f0>,\n",
       " <folium.vector_layers.CircleMarker at 0x7fd27b9e9128>,\n",
       " <folium.vector_layers.CircleMarker at 0x7fd27b9e9160>,\n",
       " <folium.vector_layers.CircleMarker at 0x7fd27b9e9198>,\n",
       " <folium.vector_layers.CircleMarker at 0x7fd27b9e91d0>,\n",
       " <folium.vector_layers.CircleMarker at 0x7fd27b9e9208>,\n",
       " <folium.vector_layers.CircleMarker at 0x7fd27b9e9240>,\n",
       " <folium.vector_layers.CircleMarker at 0x7fd27b9e9278>,\n",
       " <folium.vector_layers.CircleMarker at 0x7fd27b9e92b0>,\n",
       " <folium.vector_layers.CircleMarker at 0x7fd27b9e92e8>,\n",
       " <folium.vector_layers.CircleMarker at 0x7fd27b9e9320>,\n",
       " <folium.vector_layers.CircleMarker at 0x7fd27b9e9358>,\n",
       " <folium.vector_layers.CircleMarker at 0x7fd27b9e9390>,\n",
       " <folium.vector_layers.CircleMarker at 0x7fd27b9e93c8>,\n",
       " <folium.vector_layers.CircleMarker at 0x7fd27b9e9400>,\n",
       " <folium.vector_layers.CircleMarker at 0x7fd27b9e9438>,\n",
       " <folium.vector_layers.CircleMarker at 0x7fd27b9e9470>,\n",
       " <folium.vector_layers.CircleMarker at 0x7fd27b9e94a8>,\n",
       " <folium.vector_layers.CircleMarker at 0x7fd27b9e94e0>,\n",
       " <folium.vector_layers.CircleMarker at 0x7fd27b9e9518>,\n",
       " <folium.vector_layers.CircleMarker at 0x7fd27b9e9550>,\n",
       " <folium.vector_layers.CircleMarker at 0x7fd27b9e9588>,\n",
       " <folium.vector_layers.CircleMarker at 0x7fd27b9e95c0>,\n",
       " <folium.vector_layers.CircleMarker at 0x7fd27b9e95f8>,\n",
       " <folium.vector_layers.CircleMarker at 0x7fd27b9e9630>,\n",
       " <folium.vector_layers.CircleMarker at 0x7fd27b9e9668>,\n",
       " <folium.vector_layers.CircleMarker at 0x7fd27b9e96a0>,\n",
       " <folium.vector_layers.CircleMarker at 0x7fd27b9e96d8>,\n",
       " <folium.vector_layers.CircleMarker at 0x7fd27b9e9710>,\n",
       " <folium.vector_layers.CircleMarker at 0x7fd27b9e9748>,\n",
       " <folium.vector_layers.CircleMarker at 0x7fd27b9e9780>,\n",
       " <folium.vector_layers.CircleMarker at 0x7fd27b9e97b8>,\n",
       " <folium.vector_layers.CircleMarker at 0x7fd27b9e97f0>,\n",
       " <folium.vector_layers.CircleMarker at 0x7fd27b9e9828>,\n",
       " <folium.vector_layers.CircleMarker at 0x7fd27b9e9860>,\n",
       " <folium.vector_layers.CircleMarker at 0x7fd27b9e9898>,\n",
       " <folium.vector_layers.CircleMarker at 0x7fd27b9e98d0>,\n",
       " <folium.vector_layers.CircleMarker at 0x7fd27b9e9908>,\n",
       " <folium.vector_layers.CircleMarker at 0x7fd27b9e9940>,\n",
       " <folium.vector_layers.CircleMarker at 0x7fd27b9e9978>,\n",
       " <folium.vector_layers.CircleMarker at 0x7fd27b9e99b0>,\n",
       " <folium.vector_layers.CircleMarker at 0x7fd27b9e99e8>,\n",
       " <folium.vector_layers.CircleMarker at 0x7fd27b9e9a20>,\n",
       " <folium.vector_layers.CircleMarker at 0x7fd27b9e9a58>,\n",
       " <folium.vector_layers.CircleMarker at 0x7fd27b9e9a90>,\n",
       " <folium.vector_layers.CircleMarker at 0x7fd27b9e9ac8>,\n",
       " <folium.vector_layers.CircleMarker at 0x7fd27b9e9b00>,\n",
       " <folium.vector_layers.CircleMarker at 0x7fd27b9e9b38>,\n",
       " <folium.vector_layers.CircleMarker at 0x7fd27b9e9b70>,\n",
       " <folium.vector_layers.CircleMarker at 0x7fd27b9e9ba8>,\n",
       " <folium.vector_layers.CircleMarker at 0x7fd27b9e9be0>,\n",
       " <folium.vector_layers.CircleMarker at 0x7fd27b9e9c18>,\n",
       " <folium.vector_layers.CircleMarker at 0x7fd27b9e9c50>,\n",
       " <folium.vector_layers.CircleMarker at 0x7fd27b9e9c88>,\n",
       " <folium.vector_layers.CircleMarker at 0x7fd27b9e9cc0>,\n",
       " <folium.vector_layers.CircleMarker at 0x7fd27b9e9cf8>,\n",
       " <folium.vector_layers.CircleMarker at 0x7fd27b9e9d30>,\n",
       " <folium.vector_layers.CircleMarker at 0x7fd27b9e9d68>,\n",
       " <folium.vector_layers.CircleMarker at 0x7fd27b9e9da0>,\n",
       " <folium.vector_layers.CircleMarker at 0x7fd27b9e9dd8>,\n",
       " <folium.vector_layers.CircleMarker at 0x7fd27b9e9e10>,\n",
       " <folium.vector_layers.CircleMarker at 0x7fd27b9e9e48>,\n",
       " <folium.vector_layers.CircleMarker at 0x7fd27b9e9e80>,\n",
       " <folium.vector_layers.CircleMarker at 0x7fd27b9e9eb8>,\n",
       " <folium.vector_layers.CircleMarker at 0x7fd27b9e9ef0>,\n",
       " <folium.vector_layers.CircleMarker at 0x7fd27b9e9f28>,\n",
       " <folium.vector_layers.CircleMarker at 0x7fd27b9e9f60>,\n",
       " <folium.vector_layers.CircleMarker at 0x7fd27b9e9f98>,\n",
       " <folium.vector_layers.CircleMarker at 0x7fd27b9e9fd0>,\n",
       " <folium.vector_layers.CircleMarker at 0x7fd27b9e9080>,\n",
       " <folium.vector_layers.CircleMarker at 0x7fd27b9f6080>,\n",
       " <folium.vector_layers.CircleMarker at 0x7fd27b9f60b8>,\n",
       " <folium.vector_layers.CircleMarker at 0x7fd27b9f60f0>,\n",
       " <folium.vector_layers.CircleMarker at 0x7fd27b9f6128>,\n",
       " <folium.vector_layers.CircleMarker at 0x7fd27b9f6160>,\n",
       " <folium.vector_layers.CircleMarker at 0x7fd27b9f6198>,\n",
       " <folium.vector_layers.CircleMarker at 0x7fd27b9f61d0>,\n",
       " <folium.vector_layers.CircleMarker at 0x7fd27b9f6208>,\n",
       " <folium.vector_layers.CircleMarker at 0x7fd27b9f6240>,\n",
       " <folium.vector_layers.CircleMarker at 0x7fd27b9f6278>,\n",
       " <folium.vector_layers.CircleMarker at 0x7fd27b9f62b0>,\n",
       " <folium.vector_layers.CircleMarker at 0x7fd27b9f62e8>,\n",
       " <folium.vector_layers.CircleMarker at 0x7fd27b9f6320>,\n",
       " <folium.vector_layers.CircleMarker at 0x7fd27b9f6358>,\n",
       " <folium.vector_layers.CircleMarker at 0x7fd27b9f6390>,\n",
       " <folium.vector_layers.CircleMarker at 0x7fd27b9f63c8>,\n",
       " <folium.vector_layers.CircleMarker at 0x7fd27b9f6400>,\n",
       " <folium.vector_layers.CircleMarker at 0x7fd27b9f6438>,\n",
       " <folium.vector_layers.CircleMarker at 0x7fd27b9f6470>,\n",
       " <folium.vector_layers.CircleMarker at 0x7fd27b9f64a8>,\n",
       " <folium.vector_layers.CircleMarker at 0x7fd27b9f64e0>,\n",
       " <folium.vector_layers.CircleMarker at 0x7fd27b9f6518>,\n",
       " <folium.vector_layers.CircleMarker at 0x7fd27b9f6550>,\n",
       " <folium.vector_layers.CircleMarker at 0x7fd27b9f6588>,\n",
       " <folium.vector_layers.CircleMarker at 0x7fd27b9f65c0>,\n",
       " <folium.vector_layers.CircleMarker at 0x7fd27b9f65f8>,\n",
       " <folium.vector_layers.CircleMarker at 0x7fd27b9f6630>,\n",
       " <folium.vector_layers.CircleMarker at 0x7fd27b9f6668>,\n",
       " <folium.vector_layers.CircleMarker at 0x7fd27b9f66a0>,\n",
       " <folium.vector_layers.CircleMarker at 0x7fd27b9f66d8>,\n",
       " <folium.vector_layers.CircleMarker at 0x7fd27b9f6710>,\n",
       " <folium.vector_layers.CircleMarker at 0x7fd27b9f6748>,\n",
       " <folium.vector_layers.CircleMarker at 0x7fd27b9f6780>,\n",
       " <folium.vector_layers.CircleMarker at 0x7fd27b9f67b8>,\n",
       " <folium.vector_layers.CircleMarker at 0x7fd27b9f67f0>,\n",
       " <folium.vector_layers.CircleMarker at 0x7fd27b9f6828>,\n",
       " <folium.vector_layers.CircleMarker at 0x7fd27b9f6860>,\n",
       " <folium.vector_layers.CircleMarker at 0x7fd27b9f6898>,\n",
       " <folium.vector_layers.CircleMarker at 0x7fd27b9f68d0>,\n",
       " <folium.vector_layers.CircleMarker at 0x7fd27b9f6908>,\n",
       " <folium.vector_layers.CircleMarker at 0x7fd27b9f6940>,\n",
       " <folium.vector_layers.CircleMarker at 0x7fd27b9f6978>,\n",
       " <folium.vector_layers.CircleMarker at 0x7fd27b9f69b0>,\n",
       " <folium.vector_layers.CircleMarker at 0x7fd27b9f69e8>,\n",
       " <folium.vector_layers.CircleMarker at 0x7fd27b9f6a20>,\n",
       " <folium.vector_layers.CircleMarker at 0x7fd27b9f6a58>,\n",
       " <folium.vector_layers.CircleMarker at 0x7fd27b9f6a90>,\n",
       " <folium.vector_layers.CircleMarker at 0x7fd27b9f6ac8>,\n",
       " <folium.vector_layers.CircleMarker at 0x7fd27b9f6b00>,\n",
       " <folium.vector_layers.CircleMarker at 0x7fd27b9f6b38>,\n",
       " <folium.vector_layers.CircleMarker at 0x7fd27b9f6b70>,\n",
       " <folium.vector_layers.CircleMarker at 0x7fd27b9f6ba8>,\n",
       " <folium.vector_layers.CircleMarker at 0x7fd27b9f6be0>,\n",
       " <folium.vector_layers.CircleMarker at 0x7fd27b9f6c18>,\n",
       " <folium.vector_layers.CircleMarker at 0x7fd27b9f6c50>,\n",
       " <folium.vector_layers.CircleMarker at 0x7fd27b9f6c88>,\n",
       " <folium.vector_layers.CircleMarker at 0x7fd27b9f6cc0>,\n",
       " <folium.vector_layers.CircleMarker at 0x7fd27b9f6cf8>,\n",
       " <folium.vector_layers.CircleMarker at 0x7fd27b9f6d30>,\n",
       " <folium.vector_layers.CircleMarker at 0x7fd27b9f6d68>,\n",
       " <folium.vector_layers.CircleMarker at 0x7fd27b9f6da0>,\n",
       " <folium.vector_layers.CircleMarker at 0x7fd27b9f6dd8>]"
      ]
     },
     "execution_count": 42,
     "metadata": {},
     "output_type": "execute_result"
    }
   ],
   "source": [
    "trip_markers"
   ]
  },
  {
   "cell_type": "code",
   "execution_count": 38,
   "metadata": {},
   "outputs": [],
   "source": [
    "def add_markers(markers, map_obj):\n",
    "    map(lambda mark: mark.add_to(map_obj),markers)\n",
    "    return map_obj"
   ]
  },
  {
   "cell_type": "code",
   "execution_count": 39,
   "metadata": {
    "scrolled": false
   },
   "outputs": [],
   "source": [
    "map_with_markers = add_markers(trip_markers, manhattan_map)"
   ]
  },
  {
   "cell_type": "code",
   "execution_count": 40,
   "metadata": {},
   "outputs": [
    {
     "data": {
      "text/html": [
       "<div style=\"width:100%;\"><div style=\"position:relative;width:100%;height:0;padding-bottom:60%;\"><iframe src=\"data:text/html;charset=utf-8;base64,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\" style=\"position:absolute;width:100%;height:100%;left:0;top:0;border:none !important;\" allowfullscreen webkitallowfullscreen mozallowfullscreen></iframe></div></div>"
      ],
      "text/plain": [
       "<folium.folium.Map at 0x7fd27bb9aba8>"
      ]
     },
     "execution_count": 40,
     "metadata": {},
     "output_type": "execute_result"
    }
   ],
   "source": [
    "map_with_markers"
   ]
  },
  {
   "cell_type": "markdown",
   "metadata": {},
   "source": [
    "### Using Nearest Neighbors"
   ]
  },
  {
   "cell_type": "markdown",
   "metadata": {},
   "source": [
    "Ok, let's write a function that given a latitude and longitude will predict the distance for us.  We'll do this by first finding the nearest trips given a latitude and longitude. "
   ]
  },
  {
   "cell_type": "markdown",
   "metadata": {},
   "source": [
    "Here we once again apply the nearest neighbors formula. As a first step, write a function named `distance_location` that calculates the distance in pickup location between two trips."
   ]
  },
  {
   "cell_type": "code",
   "execution_count": null,
   "metadata": {},
   "outputs": [],
   "source": [
    "import math\n",
    "\n",
    "def distance_location(selected_trip, neighbor_trip):\n",
    "    pass"
   ]
  },
  {
   "cell_type": "code",
   "execution_count": null,
   "metadata": {},
   "outputs": [],
   "source": [
    "first_trip = {'pickup_latitude': 40.64499, 'pickup_longitude': -73.78115, 'trip_distance': 18.38}\n",
    "second_trip = {'pickup_latitude': 40.766931, 'pickup_longitude': -73.982098, 'trip_distance': 1.3}\n",
    "distance_first_and_second = distance_location(first_trip, second_trip)\n",
    "\n",
    "distance_first_and_second and round(distance_first_and_second, 3) # 0.235"
   ]
  },
  {
   "cell_type": "markdown",
   "metadata": {},
   "source": [
    "Ok, next write a function called `distance_between_neighbors` that adds a new key-value pair, called `distance_from_selected`, that calculates the distance of the `neighbor_trip` from the `selected_trip`."
   ]
  },
  {
   "cell_type": "code",
   "execution_count": null,
   "metadata": {},
   "outputs": [],
   "source": [
    "def distance_between_neighbors(selected_trip, neighbor_trip):\n",
    "    pass"
   ]
  },
  {
   "cell_type": "code",
   "execution_count": null,
   "metadata": {},
   "outputs": [],
   "source": [
    "distance_between_neighbors(first_trip, second_trip)\n",
    "\n",
    "# {'distance_from_selected': 0.23505256047318146,\n",
    "#  'pickup_latitude': 40.766931,\n",
    "#  'pickup_longitude': -73.982098,\n",
    "#  'trip_distance': 1.3}"
   ]
  },
  {
   "cell_type": "markdown",
   "metadata": {},
   "source": [
    "Ok, now our `neighbor_trip` has another attribute called `distance_from_selected`, that indicates the distance from the `neighbor_trip`'s pickup location from the `selected_trip`."
   ]
  },
  {
   "cell_type": "markdown",
   "metadata": {},
   "source": [
    "> ** Understand the data:** Our dictionary now has a few attributes, two of which say distance.  Let's make sure we understand the difference. \n",
    "> * **`distance_from_selected`:** This is our calculation of the distance of the neighbor's pickup location from the selected trip.\n",
    "> * **`trip_distance`:** This is the attribute we were provided initially.  It tells us the length of the neighbor's taxi trip from pickup to drop-off.  "
   ]
  },
  {
   "cell_type": "markdown",
   "metadata": {},
   "source": [
    "Next, write a function called `distance_all` that provided a list of neighbors, returns each of those neighbors with their respective `distance_from_selected` numbers."
   ]
  },
  {
   "cell_type": "code",
   "execution_count": null,
   "metadata": {},
   "outputs": [],
   "source": [
    "def distance_all(selected_individual, neighbors):\n",
    "    pass"
   ]
  },
  {
   "cell_type": "code",
   "execution_count": null,
   "metadata": {},
   "outputs": [],
   "source": [
    "cleaned_trips and distance_all(first_trip, cleaned_trips[0:4])"
   ]
  },
  {
   "cell_type": "markdown",
   "metadata": {},
   "source": [
    "Now write the nearest neighbors formula to calculate the distance of the `selected_trip` from all of the `cleaned_trips` in our dataset.  If no number is provided, it should return the top 3 neighbors."
   ]
  },
  {
   "cell_type": "code",
   "execution_count": null,
   "metadata": {},
   "outputs": [],
   "source": [
    "def nearest_neighbors(selected_trip, trips, number = 3):\n",
    "    pass"
   ]
  },
  {
   "cell_type": "code",
   "execution_count": null,
   "metadata": {},
   "outputs": [],
   "source": [
    "new_trip = {'pickup_latitude': 40.64499,\n",
    "'pickup_longitude': -73.78115,\n",
    "'trip_distance': 18.38}\n",
    "\n",
    "nearest_three_neighbors = nearest_neighbors(new_trip, cleaned_trips or [], number = 3)\n",
    "nearest_three_neighbors\n",
    "# [{'distance_from_selected': 0.0004569288784918792,\n",
    "#   'pickup_latitude': 40.64483,\n",
    "#   'pickup_longitude': -73.781578,\n",
    "#   'trip_distance': 7.78},\n",
    "#  {'distance_from_selected': 0.0011292165425673159,\n",
    "#   'pickup_latitude': 40.644657,\n",
    "#   'pickup_longitude': -73.782229,\n",
    "#   'trip_distance': 12.7},\n",
    "#  {'distance_from_selected': 0.0042359798158141185,\n",
    "#   'pickup_latitude': 40.648509,\n",
    "#   'pickup_longitude': -73.783508,\n",
    "#   'trip_distance': 17.3}]"
   ]
  },
  {
   "cell_type": "markdown",
   "metadata": {},
   "source": [
    "Ok great! Now that we can provide a new trip location, and find the distances of the three nearest trips, we can take  calculate an estimate of the trip distance for that new trip location.  \n",
    "\n",
    "We do so simply by calculating the average of it's nearest neighbors."
   ]
  },
  {
   "cell_type": "code",
   "execution_count": null,
   "metadata": {},
   "outputs": [],
   "source": [
    "import statistics\n",
    "def mean_distance(neighbors):\n",
    "    nearest_distances = list(map(lambda neighbor: neighbor['trip_distance'], neighbors))\n",
    "    return round(statistics.mean(nearest_distances), 3)\n",
    "\n",
    "nearest_three_neighbors = nearest_neighbors(new_trip, cleaned_trips or [], number = 3)\n",
    "distance_estimate_of_selected_trip = mean_distance(nearest_three_neighbors) # 12.593\n",
    "distance_estimate_of_selected_trip"
   ]
  },
  {
   "cell_type": "markdown",
   "metadata": {},
   "source": [
    "### Choosing the correct number of neighbors"
   ]
  },
  {
   "cell_type": "markdown",
   "metadata": {},
   "source": [
    "Now, as we know from the last lesson, one tricky element is to determine how many neighbors to choose, our $k$ value,  before calculating the average.  We want to choose our value of $k$ such that it properly matches actual data, and so that it applies to new data.  There are fancy formulas to ensure that we **train** our algorithm so that our formula is optimized for all data, but here let's see different $k$ values manually.  This is the gist of choosing our $k$ value:\n",
    "\n",
    "* If we choose a $k$ value too low, our formula will be too heavily influenced by a single neighbor, whereas if our $k$ value is too high, we will be choosing so many neighbors that our nearest neighbors formula will not be adjust enough according to locations.\n",
    "\n",
    "Ok, let's experiment with this."
   ]
  },
  {
   "cell_type": "markdown",
   "metadata": {},
   "source": [
    "First, let's choose a midtown location, to see what the trip distance would be.  A Google search reveals the coordinates of 51st and 7th avenue to be the following."
   ]
  },
  {
   "cell_type": "code",
   "execution_count": null,
   "metadata": {},
   "outputs": [],
   "source": [
    "midtown_trip = dict(pickup_latitude=40.761710, pickup_longitude=-73.982760)"
   ]
  },
  {
   "cell_type": "code",
   "execution_count": null,
   "metadata": {},
   "outputs": [],
   "source": [
    "seven_closest = nearest_neighbors(midtown_trip, cleaned_trips, number = 7)\n",
    "seven_closest\n",
    "# [{'trip_distance': 0.58,\n",
    "#   'pickup_latitude': 40.761372,\n",
    "#   'pickup_longitude': -73.982602,\n",
    "#   'distance_from_selected': 0.00037310588309379025},\n",
    "#  {'trip_distance': 0.8,\n",
    "#   'pickup_latitude': 40.762444,\n",
    "#   'pickup_longitude': -73.98244,\n",
    "#   'distance_from_selected': 0.00080072217404248},\n",
    "#  {'trip_distance': 1.4,\n",
    "#   'pickup_latitude': 40.762767,\n",
    "#   'pickup_longitude': -73.982293,\n",
    "#   'distance_from_selected': 0.0011555682584735844},\n",
    "#  {'trip_distance': 8.3,\n",
    "#   'pickup_latitude': 40.762868,\n",
    "#   'pickup_longitude': -73.983233,\n",
    "#   'distance_from_selected': 0.0012508768924205918},\n",
    "#  {'trip_distance': 1.26,\n",
    "#   'pickup_latitude': 40.760057,\n",
    "#   'pickup_longitude': -73.983502,\n",
    "#   'distance_from_selected': 0.0018118976240381972},\n",
    "#  {'trip_distance': 0.0,\n",
    "#   'pickup_latitude': 40.760644,\n",
    "#   'pickup_longitude': -73.984531,\n",
    "#   'distance_from_selected': 0.002067074502774709},\n",
    "#  {'trip_distance': 1.72,\n",
    "#   'pickup_latitude': 40.762107,\n",
    "#   'pickup_longitude': -73.98479,\n",
    "#   'distance_from_selected': 0.0020684557041472677}]"
   ]
  },
  {
   "cell_type": "markdown",
   "metadata": {},
   "source": [
    "Looking at the `distance_from_selected` it appears that our our trips are still fairly close to our selected trip.  Notice that most of the data is within a distance of .002 away, so going to the top 7 nearest neighbors didn't seem to give us neighbors too far from each other, which is a good sign.\n",
    "\n",
    "Still, it's hard to know what distance in latitude and longitude really look like, so let's map the data. "
   ]
  },
  {
   "cell_type": "code",
   "execution_count": null,
   "metadata": {},
   "outputs": [],
   "source": [
    "midtown_location = location(midtown_trip) # [40.76171, -73.98276]\n",
    "midtown_map = map_from(midtown_location, 16)\n",
    "closest_markers = markers_from_trips(seven_closest)\n",
    "\n",
    "add_markers(closest_markers, midtown_map)"
   ]
  },
  {
   "cell_type": "markdown",
   "metadata": {},
   "source": [
    "Ok.  These locations stay fairly close to our estimated location of 51st street and 7th Avenue.  So they could be a good estimate of a trip distance."
   ]
  },
  {
   "cell_type": "code",
   "execution_count": null,
   "metadata": {},
   "outputs": [],
   "source": [
    "mean_distance(seven_closest) # 2.009"
   ]
  },
  {
   "cell_type": "markdown",
   "metadata": {},
   "source": [
    "Ok, now let's try a different location"
   ]
  },
  {
   "cell_type": "code",
   "execution_count": null,
   "metadata": {},
   "outputs": [],
   "source": [
    "charging_bull_closest = nearest_neighbors({'pickup_latitude': 40.7049, 'pickup_longitude': -74.0137}, cleaned_trips, number = 12)"
   ]
  },
  {
   "cell_type": "code",
   "execution_count": null,
   "metadata": {
    "scrolled": true
   },
   "outputs": [],
   "source": [
    "mean_distance(charging_bull_closest) # 3.145"
   ]
  },
  {
   "cell_type": "markdown",
   "metadata": {},
   "source": [
    "Ok, so there appears to be a significant difference between choosing a location near Times Square versus choosing a location at Wall Street."
   ]
  },
  {
   "cell_type": "markdown",
   "metadata": {},
   "source": [
    "### Summary"
   ]
  },
  {
   "cell_type": "markdown",
   "metadata": {},
   "source": [
    "In this lab, we used the nearest neighbors function to predict the length of a taxi ride.  To do so, we selected a location, then found a number of taxi rides closest to that location, and finally took the average trip lengths of the nearest taxi rides to find an estimate of the new ride's trip length.  You can see that even with just a little bit of math and programming we can begin to make meaningful predictions with data."
   ]
  }
 ],
 "metadata": {
  "kernelspec": {
   "display_name": "Python 3",
   "language": "python",
   "name": "python3"
  },
  "language_info": {
   "codemirror_mode": {
    "name": "ipython",
    "version": 3
   },
   "file_extension": ".py",
   "mimetype": "text/x-python",
   "name": "python",
   "nbconvert_exporter": "python",
   "pygments_lexer": "ipython3",
   "version": "3.6.9"
  }
 },
 "nbformat": 4,
 "nbformat_minor": 2
}
